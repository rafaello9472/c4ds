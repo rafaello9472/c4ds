{
 "cells": [
  {
   "cell_type": "code",
   "execution_count": null,
   "id": "70710ec5-0e2e-4a58-bcbc-964315358a97",
   "metadata": {},
   "outputs": [],
   "source": [
    "# You might need to install gcloud library for Cloud Storage operations\n",
    "# !pip install gcloud"
   ]
  },
  {
   "cell_type": "code",
   "execution_count": null,
   "id": "6ab1c144-d87f-40ad-8b2c-49c9e01724f8",
   "metadata": {},
   "outputs": [],
   "source": [
    "# Import necessary libraries & Cloud Storage setup\n",
    "import pandas as pd\n",
    "import os\n",
    "import json\n",
    "from gcloud import storage\n",
    "\n",
    "# Define Cloud Storage client and bucket to which files will be exported\n",
    "client = storage.Client()\n",
    "bucket = client.get_bucket('YOUR_BUCKET_NAME')"
   ]
  },
  {
   "cell_type": "markdown",
   "id": "1938cdfc-56ff-4f9a-a60e-f57aadaa8b26",
   "metadata": {},
   "source": [
    "#### Data preparation"
   ]
  },
  {
   "cell_type": "code",
   "execution_count": null,
   "id": "6ffd6850-00fd-464a-9cb0-5a3567360534",
   "metadata": {},
   "outputs": [],
   "source": [
    "# Get adresses of files from GCS to CVS files\n",
    "!gcloud storage ls --recursive gs://datasets-c4ds/lemon-quality/bad_quality/** > bad.csv"
   ]
  },
  {
   "cell_type": "code",
   "execution_count": null,
   "id": "b213e7b4-f6e5-4da2-8fbb-e50b15478950",
   "metadata": {},
   "outputs": [],
   "source": [
    "!gcloud storage ls --recursive gs://datasets-c4ds/lemon-quality/good_quality/** > good.csv"
   ]
  },
  {
   "cell_type": "code",
   "execution_count": null,
   "id": "045138e2-7fb6-47dc-944a-22bd623d227a",
   "metadata": {},
   "outputs": [],
   "source": [
    "!gcloud storage ls --recursive gs://datasets-c4ds/lemon-quality/empty_background/** > empty.csv "
   ]
  },
  {
   "cell_type": "code",
   "execution_count": null,
   "id": "4c1283a7-758e-43dd-a36a-972d2ee49d40",
   "metadata": {},
   "outputs": [],
   "source": [
    "# Create DataFrames from CSV files\n",
    "df_bad = pd.read_csv('bad.csv', header=None)\n",
    "df_good = pd.read_csv('good.csv', header=None)\n",
    "df_empty = pd.read_csv('empty.csv', header=None)"
   ]
  },
  {
   "cell_type": "code",
   "execution_count": null,
   "id": "25d52721-86ab-49e2-b51c-7a2a0b1c5e21",
   "metadata": {},
   "outputs": [],
   "source": [
    "# Add labels\n",
    "df_bad['label'] = 'bad'\n",
    "df_good['label'] = 'good'\n",
    "df_empty['label'] = 'empty'"
   ]
  },
  {
   "cell_type": "code",
   "execution_count": null,
   "id": "31c82029-b8af-4142-8f6a-ca5c234bb2e6",
   "metadata": {},
   "outputs": [],
   "source": [
    "# Merge all 3 DataFrames\n",
    "df_full = pd.concat([df_bad, df_good, df_empty])\n",
    "df_full"
   ]
  },
  {
   "cell_type": "markdown",
   "id": "f87c4fc2-c5b3-41c7-a20c-92393d2b80af",
   "metadata": {},
   "source": [
    "#### Create CSV input file"
   ]
  },
  {
   "cell_type": "code",
   "execution_count": null,
   "id": "1aca3441-30d6-4a61-9469-b855caf7dbac",
   "metadata": {},
   "outputs": [],
   "source": [
    "# Save input file locally\n",
    "df_full.to_csv('input_file.csv', index=None, header=None)"
   ]
  },
  {
   "cell_type": "code",
   "execution_count": null,
   "id": "20d442c6-e63a-4481-a6d3-3e48cd5a994d",
   "metadata": {},
   "outputs": [],
   "source": [
    "# Export input file to Cloud Storage\n",
    "blob = bucket.blob('lemon-quality/input_file.csv')\n",
    "blob.upload_from_filename('input_file.csv')"
   ]
  },
  {
   "cell_type": "markdown",
   "id": "05be07d9-381d-43a8-9ef0-33f36686a2f3",
   "metadata": {},
   "source": [
    "#### Create JSONL input file"
   ]
  },
  {
   "cell_type": "code",
   "execution_count": null,
   "id": "86f21a43-5cff-4e92-9d89-b29786632363",
   "metadata": {},
   "outputs": [],
   "source": [
    "# Split full DataFrame into 2 lists: \n",
    "# 1st list contains Cloud Storage adresses\n",
    "path_list = list(df_full.iloc[:,0])\n",
    "\n",
    "# 2nd list contains labels\n",
    "label_list = list(df_full.iloc[:,1])"
   ]
  },
  {
   "cell_type": "code",
   "execution_count": null,
   "id": "eadab979-1928-452d-844c-a3531c0fafce",
   "metadata": {},
   "outputs": [],
   "source": [
    "print(\"Top 3 rows of path list:\")\n",
    "path_list[0:3]"
   ]
  },
  {
   "cell_type": "code",
   "execution_count": null,
   "id": "70856a2a-1fc8-4d55-8771-5fe45d28e8b9",
   "metadata": {},
   "outputs": [],
   "source": [
    "print(\"Top 3 rows of label list:\")\n",
    "label_list[0:3]"
   ]
  },
  {
   "cell_type": "code",
   "execution_count": null,
   "id": "7aa46853-77d3-41c6-bd3a-5cbbc0f4445b",
   "metadata": {},
   "outputs": [],
   "source": [
    "# Use 2 above defined arrays to create an input file according to requirements\n",
    "input_json = [{\"imageGcsUri\": path, \"classificationAnnotation\": {\"displayName\": label}} for path, label in zip(path_list, label_list)]"
   ]
  },
  {
   "cell_type": "code",
   "execution_count": null,
   "id": "239b3f8e-eb53-451e-9ab9-de693b9f00b4",
   "metadata": {},
   "outputs": [],
   "source": [
    "# Save input file locally\n",
    "with open('input_file.jsonl', 'w') as file:\n",
    "    for entry in input_json:\n",
    "        json.dump(entry, file)\n",
    "        file.write('\\n')"
   ]
  },
  {
   "cell_type": "code",
   "execution_count": null,
   "id": "81e7394d-9cf1-488e-bbd3-c974d5318d2e",
   "metadata": {},
   "outputs": [],
   "source": [
    "# Export input file to Cloud Storage\n",
    "blob = bucket.blob('lemon-quality/input_file.jsonl')\n",
    "blob.upload_from_filename('input_file.jsonl')"
   ]
  }
 ],
 "metadata": {
  "environment": {
   "kernel": "python3",
   "name": "common-cpu.m95",
   "type": "gcloud",
   "uri": "gcr.io/deeplearning-platform-release/base-cpu:m95"
  },
  "kernelspec": {
   "display_name": "Python 3",
   "language": "python",
   "name": "python3"
  },
  "language_info": {
   "codemirror_mode": {
    "name": "ipython",
    "version": 3
   },
   "file_extension": ".py",
   "mimetype": "text/x-python",
   "name": "python",
   "nbconvert_exporter": "python",
   "pygments_lexer": "ipython3",
   "version": "3.7.12"
  }
 },
 "nbformat": 4,
 "nbformat_minor": 5
}
