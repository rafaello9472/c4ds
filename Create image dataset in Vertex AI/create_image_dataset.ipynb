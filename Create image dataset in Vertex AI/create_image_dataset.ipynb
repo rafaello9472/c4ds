{
 "cells": [
  {
   "cell_type": "code",
   "execution_count": null,
   "id": "d576e14f-5c9a-4360-bcd2-677d7c6bda59",
   "metadata": {},
   "outputs": [],
   "source": [
    "# Import Vertex AI library\n",
    "from google.cloud import aiplatform"
   ]
  },
  {
   "cell_type": "code",
   "execution_count": null,
   "id": "089e42ea-6b43-4e3c-a889-403a9ccce15f",
   "metadata": {},
   "outputs": [],
   "source": [
    "# Initialize connection\n",
    "aiplatform.init(location='europe-west4')"
   ]
  },
  {
   "cell_type": "markdown",
   "id": "ee638b09-3ee0-4fa2-b4a5-b218862efbc1",
   "metadata": {},
   "source": [
    "#### Dataset from CSV file"
   ]
  },
  {
   "cell_type": "code",
   "execution_count": null,
   "id": "f6270fb3-94fd-4db8-b5a1-ef0f8d7a4504",
   "metadata": {},
   "outputs": [],
   "source": [
    "# Define BigQuery source \n",
    "gcs_source = 'gs://datasets-c4ds/lemon-quality/input_file.csv'\n",
    "import_schema_uri = 'gs://google-cloud-aiplatform/schema/dataset/ioformat/image_classification_single_label_io_format_1.0.0.yaml'\n",
    "\n",
    "# Define the dataset name\n",
    "dataset_display_name = 'lemon-quality-csv'\n",
    "\n",
    "# Create the dataset inside Vertex AI\n",
    "create_dataset_task = aiplatform.ImageDataset.create(\n",
    "    display_name=dataset_display_name,\n",
    "    gcs_source=gcs_source,\n",
    "    import_schema_uri=import_schema_uri\n",
    ")\n",
    "create_dataset_task.wait()"
   ]
  },
  {
   "cell_type": "markdown",
   "id": "5e269be7-dbfe-485e-a5a2-c36409bc9abf",
   "metadata": {
    "tags": []
   },
   "source": [
    "#### Dataset from JSON file"
   ]
  },
  {
   "cell_type": "code",
   "execution_count": null,
   "id": "41521e86-fecc-4561-91f9-3837c42a9d6c",
   "metadata": {},
   "outputs": [],
   "source": [
    "# Define BigQuery source \n",
    "gcs_source = 'gs://datasets-c4ds/lemon-quality/input_file.jsonl'\n",
    "import_schema_uri = 'gs://google-cloud-aiplatform/schema/dataset/ioformat/image_classification_single_label_io_format_1.0.0.yaml'\n",
    "\n",
    "# Define the dataset name\n",
    "dataset_display_name = 'lemon-quality-jsonl'\n",
    "\n",
    "# Create the dataset inside Vertex AI\n",
    "create_dataset_task = aiplatform.ImageDataset.create(\n",
    "    display_name=dataset_display_name,\n",
    "    gcs_source=gcs_source,\n",
    "    import_schema_uri=import_schema_uri\n",
    ")\n",
    "create_dataset_task.wait()"
   ]
  }
 ],
 "metadata": {
  "environment": {
   "kernel": "python3",
   "name": "common-cpu.m95",
   "type": "gcloud",
   "uri": "gcr.io/deeplearning-platform-release/base-cpu:m95"
  },
  "kernelspec": {
   "display_name": "Python 3",
   "language": "python",
   "name": "python3"
  },
  "language_info": {
   "codemirror_mode": {
    "name": "ipython",
    "version": 3
   },
   "file_extension": ".py",
   "mimetype": "text/x-python",
   "name": "python",
   "nbconvert_exporter": "python",
   "pygments_lexer": "ipython3",
   "version": "3.7.12"
  }
 },
 "nbformat": 4,
 "nbformat_minor": 5
}
