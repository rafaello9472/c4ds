{
 "cells": [
  {
   "cell_type": "code",
   "execution_count": null,
   "id": "403a64b3-9796-451c-babc-77fea3ed8827",
   "metadata": {},
   "outputs": [],
   "source": [
    "# !pip install google-cloud-aiplatform\n",
    "# !pip install google-auth"
   ]
  },
  {
   "cell_type": "code",
   "execution_count": null,
   "id": "b27c1aaa-dd0e-4c68-b5ab-a89cb7eb5c5e",
   "metadata": {},
   "outputs": [],
   "source": [
    "# Import Vertex AI library\n",
    "from google.cloud import aiplatform\n",
    "\n",
    "# Import service account \n",
    "from google.oauth2 import service_account"
   ]
  },
  {
   "cell_type": "code",
   "execution_count": null,
   "id": "6eccdbf9-890c-4901-88f7-2fc62736eec6",
   "metadata": {},
   "outputs": [],
   "source": [
    "credentials = service_account.Credentials.from_service_account_file('pathtoyourserviceaccountjsonkey')"
   ]
  },
  {
   "cell_type": "code",
   "execution_count": null,
   "id": "3c8e6cbd-2c8e-4181-8fa0-82caa6a2746a",
   "metadata": {},
   "outputs": [],
   "source": [
    "# Initialize connection\n",
    "aiplatform.init(project='yourprojectname')"
   ]
  },
  {
   "cell_type": "code",
   "execution_count": null,
   "id": "0f2d8318-de8c-4fad-a4d6-315f352afd70",
   "metadata": {},
   "outputs": [],
   "source": [
    "# List the available datasets to test the connection\n",
    "aiplatform.TabularDataset.list()"
   ]
  }
 ],
 "metadata": {
  "environment": {
   "kernel": "python3",
   "name": "common-cpu.m93",
   "type": "gcloud",
   "uri": "gcr.io/deeplearning-platform-release/base-cpu:m93"
  },
  "kernelspec": {
   "display_name": "Python 3",
   "language": "python",
   "name": "python3"
  },
  "language_info": {
   "codemirror_mode": {
    "name": "ipython",
    "version": 3
   },
   "file_extension": ".py",
   "mimetype": "text/x-python",
   "name": "python",
   "nbconvert_exporter": "python",
   "pygments_lexer": "ipython3",
   "version": "3.7.12"
  }
 },
 "nbformat": 4,
 "nbformat_minor": 5
}
