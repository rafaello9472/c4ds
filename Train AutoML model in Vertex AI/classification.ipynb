{
 "cells": [
  {
   "cell_type": "code",
   "execution_count": null,
   "id": "e2cf2644-dd2b-414f-9f12-3ccca2df56cb",
   "metadata": {},
   "outputs": [],
   "source": [
    "# Import Vertex AI library\n",
    "from google.cloud import aiplatform"
   ]
  },
  {
   "cell_type": "code",
   "execution_count": null,
   "id": "69ee4f70-c1f2-4704-ada2-cc63634daf47",
   "metadata": {},
   "outputs": [],
   "source": [
    "# Initialize connection\n",
    "aiplatform.init(location='europe-west1')"
   ]
  },
  {
   "cell_type": "markdown",
   "id": "c06d78bc-5e16-41f3-9206-de7e9ea913d5",
   "metadata": {},
   "source": [
    "#### Dataset preparation"
   ]
  },
  {
   "cell_type": "code",
   "execution_count": null,
   "id": "a791bc3e-bbcf-4a8f-a80f-10a2f93803a0",
   "metadata": {},
   "outputs": [],
   "source": [
    "# Get dataset\n",
    "dataset_id = 'your_dataset_id' # E.g.: projects/268076997885/locations/europe-west1/datasets/1312975213238943744\n",
    "dataset = aiplatform.TabularDataset(dataset_id)"
   ]
  },
  {
   "cell_type": "code",
   "execution_count": null,
   "id": "598c5330-70e1-4150-854a-e694d125d6fe",
   "metadata": {},
   "outputs": [],
   "source": [
    "# Display column names\n",
    "dataset.column_names"
   ]
  },
  {
   "cell_type": "code",
   "execution_count": null,
   "id": "64d38968-6059-41f9-944f-48cd096de31a",
   "metadata": {},
   "outputs": [],
   "source": [
    "# Create column_specs object\n",
    "column_specs = aiplatform.training_jobs.AutoMLTabularTrainingJob.get_auto_column_specs(\n",
    "    dataset=dataset,\n",
    "    target_column='stroke',\n",
    ")"
   ]
  },
  {
   "cell_type": "code",
   "execution_count": null,
   "id": "9dc70b9a-9490-4f9f-95ad-82ec37ed4779",
   "metadata": {},
   "outputs": [],
   "source": [
    "# Display it\n",
    "column_specs"
   ]
  },
  {
   "cell_type": "code",
   "execution_count": null,
   "id": "8379eb18-0b07-4303-9a60-08cc811be5cc",
   "metadata": {},
   "outputs": [],
   "source": [
    "# Manually set transformation type\n",
    "# One of: ['categorical', 'numeric', 'text', 'timestamp']\n",
    "column_specs['gender'] = 'categorical'\n",
    "column_specs['age'] = 'numeric'\n",
    "column_specs"
   ]
  },
  {
   "cell_type": "code",
   "execution_count": null,
   "id": "874f80db-ba21-4fa5-b24f-077d8f6605aa",
   "metadata": {},
   "outputs": [],
   "source": [
    "# Exclude 'id' column from training\n",
    "column_specs.pop('id', None)\n",
    "column_specs"
   ]
  },
  {
   "cell_type": "markdown",
   "id": "524c3735-2282-4b3c-b582-206c9ba1d723",
   "metadata": {},
   "source": [
    "#### Train model"
   ]
  },
  {
   "cell_type": "code",
   "execution_count": null,
   "id": "e986672b-2479-4bad-8b07-39711aaffed1",
   "metadata": {},
   "outputs": [],
   "source": [
    "# Name of the Model\n",
    "display_name = 'stroke_classification_model'\n",
    "\n",
    "# The type of prediction the Model is to produce.\n",
    "# One of: ['classification', 'regression']\n",
    "optimization_prediction_type = 'classification'\n",
    "\n",
    "# Objective function the Model is to be optimized towards. \n",
    "# For classification (binary): \n",
    "# ['maximize-au-roc', 'minimize-log-loss', 'maximize-au-prc' 'maximize-precision-at-recall', 'maximize-recall-at-precision']\n",
    "# For classification (multi class): \n",
    "# ['minimize-log-loss']\n",
    "# For regression:\n",
    "# ['minimize-rmse', 'minimize-mae', 'minimize-rmsle']\n",
    "optimization_objective = 'minimize-log-loss'"
   ]
  },
  {
   "cell_type": "code",
   "execution_count": null,
   "id": "bb914398-3285-4d48-b505-e61b1eeef10c",
   "metadata": {},
   "outputs": [],
   "source": [
    "# Create training job\n",
    "job = aiplatform.AutoMLTabularTrainingJob(\n",
    "    display_name=display_name,\n",
    "    optimization_prediction_type=optimization_prediction_type,\n",
    "    optimization_objective=optimization_objective,\n",
    "    column_specs=column_specs,\n",
    "    location='europe-west1',\n",
    ")"
   ]
  },
  {
   "cell_type": "code",
   "execution_count": null,
   "id": "b5479315-bbd6-43f4-add1-5d7b506ba399",
   "metadata": {},
   "outputs": [],
   "source": [
    "# Run training job\n",
    "model = job.run(\n",
    "    dataset=dataset,\n",
    "    target_column='stroke',\n",
    "    training_fraction_split=0.7,\n",
    "    validation_fraction_split=0.15,\n",
    "    test_fraction_split=0.15,\n",
    "    budget_milli_node_hours=1000\n",
    ")"
   ]
  },
  {
   "cell_type": "code",
   "execution_count": null,
   "id": "e874d9b3-bb29-47ff-adb9-950b534d5c9f",
   "metadata": {},
   "outputs": [],
   "source": [
    "# Retrieve model after training\n",
    "model_id = 'your_model_id' # E.g.: projects/268076997885/locations/europe-west1/models/1312975213238942344\n",
    "model = aiplatform.Model(model_id)"
   ]
  },
  {
   "cell_type": "markdown",
   "id": "0d0ef58b-4835-4422-acf9-d3fd804955b4",
   "metadata": {
    "tags": []
   },
   "source": [
    "#### Export trained model"
   ]
  },
  {
   "cell_type": "code",
   "execution_count": null,
   "id": "a2229f1f-4686-42b0-a5ed-61e1aa1c36e6",
   "metadata": {},
   "outputs": [],
   "source": [
    "# Check supported export formats\n",
    "model.supported_export_formats"
   ]
  },
  {
   "cell_type": "code",
   "execution_count": null,
   "id": "dbccc160-25b5-48cb-a0a1-d38cff8cc237",
   "metadata": {},
   "outputs": [],
   "source": [
    "# Export to GCS\n",
    "model.export_model(export_format_id='tf-saved-model', artifact_destination='gs://c4ds-models')"
   ]
  },
  {
   "cell_type": "markdown",
   "id": "4bd8ea44-f65e-45ef-a2e0-a731186267e1",
   "metadata": {},
   "source": [
    "#### Check model evaluation"
   ]
  },
  {
   "cell_type": "code",
   "execution_count": null,
   "id": "febefd61-6ae1-4c24-b4aa-fd196efc0b84",
   "metadata": {},
   "outputs": [],
   "source": [
    "model.list_model_evaluations()"
   ]
  },
  {
   "cell_type": "code",
   "execution_count": null,
   "id": "6397b62d-abdc-4c1f-b8ef-598e0d5de822",
   "metadata": {},
   "outputs": [],
   "source": [
    "evaluation_id = 'your_evaluation_id' # E.g.: 8061705251140478123\n",
    "evaluation = model.get_model_evaluation(evaluation_id=evaluation_id)"
   ]
  },
  {
   "cell_type": "code",
   "execution_count": null,
   "id": "3aece9ea-3465-4b6f-b9cc-b4abf286839c",
   "metadata": {},
   "outputs": [],
   "source": [
    "def get_model_evaluation_tabular_classification_sample(\n",
    "    project: str,\n",
    "    model_id: str,\n",
    "    evaluation_id: str,\n",
    "    location: str = \"us-central1\",\n",
    "    api_endpoint: str = \"us-central1-aiplatform.googleapis.com\",\n",
    "):\n",
    "    \"\"\"\n",
    "    To obtain evaluation_id run the following commands where LOCATION\n",
    "    is the region where the model is stored, PROJECT is the project ID,\n",
    "    and MODEL_ID is the ID of your model.\n",
    "\n",
    "    model_client = aiplatform.gapic.ModelServiceClient(\n",
    "        client_options={\n",
    "            'api_endpoint':'LOCATION-aiplatform.googleapis.com'\n",
    "            }\n",
    "        )\n",
    "    evaluations = model_client.list_model_evaluations(parent='projects/PROJECT/locations/LOCATION/models/MODEL_ID')\n",
    "    print(\"evaluations:\", evaluations)\n",
    "    \"\"\"\n",
    "    # The AI Platform services require regional API endpoints.\n",
    "    client_options = {\"api_endpoint\": api_endpoint}\n",
    "    # Initialize client that will be used to create and send requests.\n",
    "    # This client only needs to be created once, and can be reused for multiple requests.\n",
    "    client = aiplatform.gapic.ModelServiceClient(client_options=client_options)\n",
    "    name = client.model_evaluation_path(\n",
    "        project=project, location=location, model=model_id, evaluation=evaluation_id\n",
    "    )\n",
    "    response = client.get_model_evaluation(name=name)\n",
    "    print(\"response:\", response)\n"
   ]
  },
  {
   "cell_type": "code",
   "execution_count": null,
   "id": "d52d97de-0040-4dd7-b119-46d8cc9acb83",
   "metadata": {},
   "outputs": [],
   "source": [
    "project = '268076997885' # Project ID\n",
    "model_id = '8895049068707840000' # The last part of model ID\n",
    "location = 'europe-west1'\n",
    "api_endpoint = 'europe-west1-aiplatform.googleapis.com'\n",
    "get_model_evaluation_tabular_classification_sample(project=project,\n",
    "                                                   model_id=model_id,\n",
    "                                                   evaluation_id=evaluation_id,\n",
    "                                                   location=location,\n",
    "                                                   api_endpoint=api_endpoint)"
   ]
  },
  {
   "cell_type": "markdown",
   "id": "968ae387-c711-414d-be53-5703da73b807",
   "metadata": {},
   "source": [
    "#### Update model"
   ]
  },
  {
   "cell_type": "code",
   "execution_count": null,
   "id": "86783be3-d566-47dd-b848-f6a97bde8b77",
   "metadata": {},
   "outputs": [],
   "source": [
    "model.update(description='New model description')"
   ]
  },
  {
   "cell_type": "markdown",
   "id": "d2dfd05a-fc92-499f-bc2d-cf7d47f26e12",
   "metadata": {},
   "source": [
    "#### Delete model"
   ]
  },
  {
   "cell_type": "code",
   "execution_count": null,
   "id": "f57ea5e6-6ce5-41d1-bc3e-779afdc5e133",
   "metadata": {},
   "outputs": [],
   "source": [
    "model.delete()"
   ]
  }
 ],
 "metadata": {
  "environment": {
   "kernel": "python3",
   "name": "common-cpu.m93",
   "type": "gcloud",
   "uri": "gcr.io/deeplearning-platform-release/base-cpu:m93"
  },
  "kernelspec": {
   "display_name": "Python 3",
   "language": "python",
   "name": "python3"
  },
  "language_info": {
   "codemirror_mode": {
    "name": "ipython",
    "version": 3
   },
   "file_extension": ".py",
   "mimetype": "text/x-python",
   "name": "python",
   "nbconvert_exporter": "python",
   "pygments_lexer": "ipython3",
   "version": "3.7.12"
  }
 },
 "nbformat": 4,
 "nbformat_minor": 5
}
