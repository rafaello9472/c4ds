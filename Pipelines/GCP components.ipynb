{
 "cells": [
  {
   "cell_type": "code",
   "execution_count": 10,
   "id": "89db388b-4a8c-4102-8cbe-755e9c422a21",
   "metadata": {},
   "outputs": [],
   "source": [
    "import kfp\n",
    "from kfp.v2.dsl import component\n",
    "from google.cloud import aiplatform\n",
    "from google_cloud_pipeline_components import aiplatform as gcc_aip\n",
    "\n",
    "\n",
    "project_id = 'c4ds-gcp'\n",
    "pipeline_root_path = 'gs://c4ds/vertexai/pipelines'\n",
    "location = 'europe-west1'\n",
    "\n"
   ]
  },
  {
   "cell_type": "code",
   "execution_count": 11,
   "id": "31d9cc3e-54e2-495e-b71c-8726a50f8fe2",
   "metadata": {},
   "outputs": [],
   "source": [
    "@component()\n",
    "def GetDatasetOp(dataset_name: str, project: str, location: str) -> str:\n",
    "    dataset = aiplatform.TabularDataset(\n",
    "        dataset_name=dataset_name,\n",
    "        project=project,\n",
    "        location=location)\n",
    "    return dataset.display_name\n",
    "\n",
    "@component\n",
    "def AnalyzeDatasetOp(data: str):\n",
    "    print(data)"
   ]
  },
  {
   "cell_type": "code",
   "execution_count": 12,
   "id": "8fd0f4e6-f425-486d-a708-980b1e3c97f1",
   "metadata": {},
   "outputs": [],
   "source": [
    "@kfp.dsl.pipeline(\n",
    "    name='get-dataset-test',\n",
    "    pipeline_root=pipeline_root_path)\n",
    "def pipeline(\n",
    "    dataset_id: str = '7929818597008867328',\n",
    "    # gcs_source: str = 'gs://datasets-c4ds/healthcare-dataset-stroke-data.csv',\n",
    "    # DATASET_DISPLAY_NAME: str = 'stroke-dataset-from-pipeline',\n",
    "    project: str = 'c4ds-gcp',\n",
    "    location: str = 'europe-west1'\n",
    "\n",
    "):\n",
    "\n",
    "    # from google_cloud_pipeline_components.aiplatform import (\n",
    "    #     AutoMLTabularTrainingJobRunOp, EndpointCreateOp, ModelDeployOp,\n",
    "    #     TabularDatasetCreateOp)\n",
    "\n",
    "    dataset_fetch_task = GetDatasetOp(\n",
    "        dataset_name=dataset_id,\n",
    "        project=project,\n",
    "        location=location\n",
    "    )\n",
    "    \n",
    "    dataset_analyze_task = AnalyzeDatasetOp(dataset_fetch_task.output)\n"
   ]
  },
  {
   "cell_type": "code",
   "execution_count": 13,
   "id": "6c51f3da-69a8-43fc-81ca-5a49c651f0d7",
   "metadata": {
    "tags": []
   },
   "outputs": [],
   "source": [
    "from kfp.v2 import compiler\n",
    "compiler.Compiler().compile(pipeline_func=pipeline,\n",
    "        package_path='dataset_operations.json')"
   ]
  },
  {
   "cell_type": "code",
   "execution_count": 15,
   "id": "0a35d443-7f8e-407e-940e-be7e2c41bd07",
   "metadata": {},
   "outputs": [],
   "source": [
    "    dataset = aiplatform.TabularDataset(\n",
    "        dataset_name='7929818597008867328',\n",
    "        project=project_id,\n",
    "        location=location)\n",
    "    "
   ]
  },
  {
   "cell_type": "code",
   "execution_count": 5,
   "id": "9bbc448c-2fa5-482e-8709-0cc386f564d3",
   "metadata": {},
   "outputs": [
    {
     "data": {
      "text/plain": [
       "'stroke-prediction'"
      ]
     },
     "execution_count": 5,
     "metadata": {},
     "output_type": "execute_result"
    }
   ],
   "source": [
    "def GetDatasetOp(dataset_name, project, location):\n",
    "    dataset = aiplatform.TabularDataset(\n",
    "        dataset_name=dataset_name,\n",
    "        project=project,\n",
    "        location=location)\n",
    "    return dataset.display_name\n",
    "\n",
    "GetDatasetOp('7929818597008867328', 'c4ds-gcp', 'europe-west1')"
   ]
  }
 ],
 "metadata": {
  "environment": {
   "kernel": "python3",
   "name": "common-cpu.m95",
   "type": "gcloud",
   "uri": "gcr.io/deeplearning-platform-release/base-cpu:m95"
  },
  "kernelspec": {
   "display_name": "Python 3",
   "language": "python",
   "name": "python3"
  },
  "language_info": {
   "codemirror_mode": {
    "name": "ipython",
    "version": 3
   },
   "file_extension": ".py",
   "mimetype": "text/x-python",
   "name": "python",
   "nbconvert_exporter": "python",
   "pygments_lexer": "ipython3",
   "version": "3.7.12"
  }
 },
 "nbformat": 4,
 "nbformat_minor": 5
}
