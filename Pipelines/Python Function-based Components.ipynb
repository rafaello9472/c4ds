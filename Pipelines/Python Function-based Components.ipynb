{
 "cells": [
  {
   "cell_type": "code",
   "execution_count": 1,
   "id": "18b4e892-b0d2-4640-99ea-45ce54d34fc1",
   "metadata": {},
   "outputs": [],
   "source": [
    "import kfp\n",
    "import kfp.dsl as dsl\n",
    "from kfp.v2.dsl import (\n",
    "    component,\n",
    "    Input,\n",
    "    Output,\n",
    "    Dataset,\n",
    "    Metrics,\n",
    ")"
   ]
  },
  {
   "cell_type": "code",
   "execution_count": 3,
   "id": "a423362c-17c4-4a3b-a9f9-36f3458a7d17",
   "metadata": {},
   "outputs": [],
   "source": [
    "@component\n",
    "def add(a: float, b: float) -> float:\n",
    "  '''Calculates sum of two arguments'''\n",
    "  return a + b"
   ]
  },
  {
   "cell_type": "code",
   "execution_count": null,
   "id": "b0a49bfa-2299-400b-a952-a4d94e6c0e91",
   "metadata": {},
   "outputs": [],
   "source": [
    "import kfp.dsl as dsl\n",
    "@dsl.pipeline(\n",
    "  name='addition-pipeline',\n",
    "  description='An example pipeline that performs addition calculations.',\n",
    "  pipeline_root='gs://my-pipeline-root/example-pipeline'\n",
    ")\n",
    "def add_pipeline(\n",
    "  a: float=1,\n",
    "  b: float=7,\n",
    "):\n",
    "  # Passes a pipeline parameter and a constant value to the `add` factory\n",
    "  # function.\n",
    "  first_add_task = add(a, 4)\n",
    "  # Passes an output reference from `first_add_task` and a pipeline parameter\n",
    "  # to the `add` factory function. For operations with a single return\n",
    "  # value, the output reference can be accessed as `task.output` or\n",
    "  # `task.outputs['output_name']`.\n",
    "\n",
    "# Specify pipeline argument values\n",
    "arguments = {'a': 7, 'b': 8}"
   ]
  },
  {
   "cell_type": "code",
   "execution_count": 4,
   "id": "438a750c-1bb1-4b81-91f4-2eedf1b1309e",
   "metadata": {},
   "outputs": [],
   "source": [
    "import kfp\n",
    "from google.cloud import aiplatform\n",
    "from google_cloud_pipeline_components import aiplatform as gcc_aip\n",
    "\n",
    "project_id = 'c4ds-gcp'\n",
    "pipeline_root_path = 'gs://c4ds/vertexai/pipelines'\n",
    "\n",
    "# Define the workflow of the pipeline.\n",
    "@dsl.pipeline(\n",
    "    name='addition-pipeline',\n",
    "    description='An example pipeline that performs addition calculations.',\n",
    "    pipeline_root=pipeline_root_path)\n",
    "def pipeline(project_id: str):\n",
    "    \n",
    "    first_add_task = add(1, 4)\n",
    "    second_add_task = add(first_add_task.output, 2)"
   ]
  },
  {
   "cell_type": "code",
   "execution_count": 5,
   "id": "0cb969fe-b286-4c98-8122-f4d8b218391f",
   "metadata": {},
   "outputs": [
    {
     "name": "stderr",
     "output_type": "stream",
     "text": [
      "/opt/conda/lib/python3.7/site-packages/kfp/v2/compiler/compiler.py:1293: FutureWarning: APIs imported from the v1 namespace (e.g. kfp.dsl, kfp.components, etc) will not be supported by the v2 compiler since v2.0.0\n",
      "  category=FutureWarning,\n"
     ]
    }
   ],
   "source": [
    "from kfp.v2 import compiler\n",
    "compiler.Compiler().compile(pipeline_func=pipeline,\n",
    "        package_path='add_numbers_pipeline.json')"
   ]
  },
  {
   "cell_type": "code",
   "execution_count": 42,
   "id": "a751174c-b8be-40f5-8272-5b091507c92c",
   "metadata": {
    "tags": []
   },
   "outputs": [],
   "source": [
    "from typing import NamedTuple\n",
    "@component\n",
    "def multiple_return_values_example(a: float, b: float) -> NamedTuple(\n",
    "  'ExampleOutputs',\n",
    "  [\n",
    "    ('sum', float),\n",
    "    ('product', float)\n",
    "  ]):\n",
    "    \"\"\"Example function that demonstrates how to return multiple values.\"\"\"  \n",
    "    sum_value = a + b\n",
    "    product_value = a * b\n",
    "\n",
    "    from collections import namedtuple\n",
    "    example_output = namedtuple('ExampleOutputs', ['sum', 'product'])\n",
    "    return example_output(sum_value, product_value)"
   ]
  },
  {
   "cell_type": "code",
   "execution_count": 43,
   "id": "0b545c88-ef93-4b09-82d3-d85151742b95",
   "metadata": {},
   "outputs": [],
   "source": [
    "import kfp\n",
    "from google.cloud import aiplatform\n",
    "from google_cloud_pipeline_components import aiplatform as gcc_aip\n",
    "\n",
    "project_id = 'c4ds-gcp'\n",
    "pipeline_root_path = 'gs://c4ds/vertexai/pipelines'\n",
    "\n",
    "# Define the workflow of the pipeline.\n",
    "@dsl.pipeline(\n",
    "    name='multiple-outputs-pipeline',\n",
    "    description='An example pipeline that performs addition calculations.',\n",
    "    pipeline_root=pipeline_root_path)\n",
    "\n",
    "def pipeline(\n",
    "    project_id: str,\n",
    "    a: float=4,\n",
    "    b: float=6\n",
    "):\n",
    "    \n",
    "    first_task = multiple_return_values_example(a, 4)\n",
    "    second_task = add(first_task.outputs['sum'], b)\n",
    "    third_task = add(first_task.outputs['product'], b)"
   ]
  },
  {
   "cell_type": "code",
   "execution_count": 44,
   "id": "57e1928d-370d-4d9f-b200-bf3c04855bb0",
   "metadata": {},
   "outputs": [],
   "source": [
    "from kfp.v2 import compiler\n",
    "compiler.Compiler().compile(pipeline_func=pipeline,\n",
    "        package_path='3_tasks_pip.json')"
   ]
  }
 ],
 "metadata": {
  "environment": {
   "kernel": "python3",
   "name": "common-cpu.m95",
   "type": "gcloud",
   "uri": "gcr.io/deeplearning-platform-release/base-cpu:m95"
  },
  "kernelspec": {
   "display_name": "Python 3",
   "language": "python",
   "name": "python3"
  },
  "language_info": {
   "codemirror_mode": {
    "name": "ipython",
    "version": 3
   },
   "file_extension": ".py",
   "mimetype": "text/x-python",
   "name": "python",
   "nbconvert_exporter": "python",
   "pygments_lexer": "ipython3",
   "version": "3.7.12"
  }
 },
 "nbformat": 4,
 "nbformat_minor": 5
}
