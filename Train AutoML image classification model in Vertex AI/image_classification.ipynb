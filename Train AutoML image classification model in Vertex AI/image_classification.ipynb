{
 "cells": [
  {
   "cell_type": "code",
   "execution_count": 1,
   "id": "c344b4b9-c713-4800-ae10-b76c6e0c9d10",
   "metadata": {},
   "outputs": [],
   "source": [
    "# Import Vertex AI library\n",
    "from google.cloud import aiplatform"
   ]
  },
  {
   "cell_type": "code",
   "execution_count": 2,
   "id": "772d0019-4b34-441d-9b44-a61a6c5c122e",
   "metadata": {},
   "outputs": [],
   "source": [
    "# Initialize connection\n",
    "aiplatform.init(location='europe-west4')"
   ]
  },
  {
   "cell_type": "markdown",
   "id": "a59b4973-6441-427f-b128-5ab388838b83",
   "metadata": {},
   "source": [
    "#### Dataset preparation"
   ]
  },
  {
   "cell_type": "code",
   "execution_count": 9,
   "id": "5d55bbe5-31b0-4f3c-92d4-0d8e4a08a606",
   "metadata": {},
   "outputs": [],
   "source": [
    "# Get dataset\n",
    "dataset_id = 'projects/481904805065/locations/europe-west4/datasets/9147094517189443584'\n",
    "dataset = aiplatform.ImageDataset(dataset_id)"
   ]
  },
  {
   "cell_type": "markdown",
   "id": "fa7be5f1-97d8-4289-a347-be38a6fa7f9e",
   "metadata": {},
   "source": [
    "#### Train model"
   ]
  },
  {
   "cell_type": "code",
   "execution_count": 10,
   "id": "f07c0b3c-69ab-4857-84c4-eadc1edc8291",
   "metadata": {},
   "outputs": [],
   "source": [
    "# Name of the Model\n",
    "display_name = 'lemon_quality_model'\n",
    "\n",
    "# The type of prediction the Model is to produce.\n",
    "# One of: ['classification', 'object_detection']\n",
    "prediction_type = 'classification'"
   ]
  },
  {
   "cell_type": "code",
   "execution_count": 11,
   "id": "dc815b5b-9993-4c3b-a9e0-251cb4e83257",
   "metadata": {},
   "outputs": [],
   "source": [
    "# Create training job\n",
    "job = aiplatform.AutoMLImageTrainingJob(\n",
    "    display_name=display_name,\n",
    "    prediction_type=prediction_type\n",
    ")"
   ]
  },
  {
   "cell_type": "code",
   "execution_count": 12,
   "id": "68225b7a-d3f2-4293-8962-0995baa0c3cf",
   "metadata": {},
   "outputs": [
    {
     "name": "stdout",
     "output_type": "stream",
     "text": [
      "View Training:\n",
      "https://console.cloud.google.com/ai/platform/locations/europe-west4/training/1751472545023918080?project=481904805065\n",
      "AutoMLImageTrainingJob projects/481904805065/locations/europe-west4/trainingPipelines/1751472545023918080 current state:\n",
      "PipelineState.PIPELINE_STATE_PENDING\n",
      "AutoMLImageTrainingJob projects/481904805065/locations/europe-west4/trainingPipelines/1751472545023918080 current state:\n",
      "PipelineState.PIPELINE_STATE_RUNNING\n",
      "AutoMLImageTrainingJob projects/481904805065/locations/europe-west4/trainingPipelines/1751472545023918080 current state:\n",
      "PipelineState.PIPELINE_STATE_RUNNING\n",
      "AutoMLImageTrainingJob projects/481904805065/locations/europe-west4/trainingPipelines/1751472545023918080 current state:\n",
      "PipelineState.PIPELINE_STATE_RUNNING\n",
      "AutoMLImageTrainingJob projects/481904805065/locations/europe-west4/trainingPipelines/1751472545023918080 current state:\n",
      "PipelineState.PIPELINE_STATE_RUNNING\n",
      "AutoMLImageTrainingJob projects/481904805065/locations/europe-west4/trainingPipelines/1751472545023918080 current state:\n",
      "PipelineState.PIPELINE_STATE_RUNNING\n",
      "AutoMLImageTrainingJob projects/481904805065/locations/europe-west4/trainingPipelines/1751472545023918080 current state:\n",
      "PipelineState.PIPELINE_STATE_RUNNING\n",
      "AutoMLImageTrainingJob projects/481904805065/locations/europe-west4/trainingPipelines/1751472545023918080 current state:\n",
      "PipelineState.PIPELINE_STATE_RUNNING\n",
      "AutoMLImageTrainingJob projects/481904805065/locations/europe-west4/trainingPipelines/1751472545023918080 current state:\n",
      "PipelineState.PIPELINE_STATE_RUNNING\n",
      "AutoMLImageTrainingJob projects/481904805065/locations/europe-west4/trainingPipelines/1751472545023918080 current state:\n",
      "PipelineState.PIPELINE_STATE_RUNNING\n",
      "AutoMLImageTrainingJob projects/481904805065/locations/europe-west4/trainingPipelines/1751472545023918080 current state:\n",
      "PipelineState.PIPELINE_STATE_RUNNING\n",
      "AutoMLImageTrainingJob projects/481904805065/locations/europe-west4/trainingPipelines/1751472545023918080 current state:\n",
      "PipelineState.PIPELINE_STATE_RUNNING\n",
      "AutoMLImageTrainingJob projects/481904805065/locations/europe-west4/trainingPipelines/1751472545023918080 current state:\n",
      "PipelineState.PIPELINE_STATE_RUNNING\n",
      "AutoMLImageTrainingJob projects/481904805065/locations/europe-west4/trainingPipelines/1751472545023918080 current state:\n",
      "PipelineState.PIPELINE_STATE_RUNNING\n",
      "AutoMLImageTrainingJob projects/481904805065/locations/europe-west4/trainingPipelines/1751472545023918080 current state:\n",
      "PipelineState.PIPELINE_STATE_RUNNING\n",
      "AutoMLImageTrainingJob projects/481904805065/locations/europe-west4/trainingPipelines/1751472545023918080 current state:\n",
      "PipelineState.PIPELINE_STATE_RUNNING\n",
      "AutoMLImageTrainingJob projects/481904805065/locations/europe-west4/trainingPipelines/1751472545023918080 current state:\n",
      "PipelineState.PIPELINE_STATE_RUNNING\n",
      "AutoMLImageTrainingJob projects/481904805065/locations/europe-west4/trainingPipelines/1751472545023918080 current state:\n",
      "PipelineState.PIPELINE_STATE_RUNNING\n",
      "AutoMLImageTrainingJob projects/481904805065/locations/europe-west4/trainingPipelines/1751472545023918080 current state:\n",
      "PipelineState.PIPELINE_STATE_RUNNING\n",
      "AutoMLImageTrainingJob projects/481904805065/locations/europe-west4/trainingPipelines/1751472545023918080 current state:\n",
      "PipelineState.PIPELINE_STATE_RUNNING\n",
      "AutoMLImageTrainingJob projects/481904805065/locations/europe-west4/trainingPipelines/1751472545023918080 current state:\n",
      "PipelineState.PIPELINE_STATE_RUNNING\n",
      "AutoMLImageTrainingJob projects/481904805065/locations/europe-west4/trainingPipelines/1751472545023918080 current state:\n",
      "PipelineState.PIPELINE_STATE_RUNNING\n",
      "AutoMLImageTrainingJob projects/481904805065/locations/europe-west4/trainingPipelines/1751472545023918080 current state:\n",
      "PipelineState.PIPELINE_STATE_RUNNING\n",
      "AutoMLImageTrainingJob projects/481904805065/locations/europe-west4/trainingPipelines/1751472545023918080 current state:\n",
      "PipelineState.PIPELINE_STATE_RUNNING\n",
      "AutoMLImageTrainingJob projects/481904805065/locations/europe-west4/trainingPipelines/1751472545023918080 current state:\n",
      "PipelineState.PIPELINE_STATE_RUNNING\n",
      "AutoMLImageTrainingJob projects/481904805065/locations/europe-west4/trainingPipelines/1751472545023918080 current state:\n",
      "PipelineState.PIPELINE_STATE_RUNNING\n",
      "AutoMLImageTrainingJob projects/481904805065/locations/europe-west4/trainingPipelines/1751472545023918080 current state:\n",
      "PipelineState.PIPELINE_STATE_RUNNING\n",
      "AutoMLImageTrainingJob projects/481904805065/locations/europe-west4/trainingPipelines/1751472545023918080 current state:\n",
      "PipelineState.PIPELINE_STATE_RUNNING\n",
      "AutoMLImageTrainingJob projects/481904805065/locations/europe-west4/trainingPipelines/1751472545023918080 current state:\n",
      "PipelineState.PIPELINE_STATE_RUNNING\n",
      "AutoMLImageTrainingJob projects/481904805065/locations/europe-west4/trainingPipelines/1751472545023918080 current state:\n",
      "PipelineState.PIPELINE_STATE_RUNNING\n",
      "AutoMLImageTrainingJob projects/481904805065/locations/europe-west4/trainingPipelines/1751472545023918080 current state:\n",
      "PipelineState.PIPELINE_STATE_RUNNING\n",
      "AutoMLImageTrainingJob projects/481904805065/locations/europe-west4/trainingPipelines/1751472545023918080 current state:\n",
      "PipelineState.PIPELINE_STATE_RUNNING\n",
      "AutoMLImageTrainingJob projects/481904805065/locations/europe-west4/trainingPipelines/1751472545023918080 current state:\n",
      "PipelineState.PIPELINE_STATE_RUNNING\n",
      "AutoMLImageTrainingJob projects/481904805065/locations/europe-west4/trainingPipelines/1751472545023918080 current state:\n",
      "PipelineState.PIPELINE_STATE_RUNNING\n",
      "AutoMLImageTrainingJob projects/481904805065/locations/europe-west4/trainingPipelines/1751472545023918080 current state:\n",
      "PipelineState.PIPELINE_STATE_RUNNING\n",
      "AutoMLImageTrainingJob projects/481904805065/locations/europe-west4/trainingPipelines/1751472545023918080 current state:\n",
      "PipelineState.PIPELINE_STATE_RUNNING\n",
      "AutoMLImageTrainingJob projects/481904805065/locations/europe-west4/trainingPipelines/1751472545023918080 current state:\n",
      "PipelineState.PIPELINE_STATE_RUNNING\n",
      "AutoMLImageTrainingJob projects/481904805065/locations/europe-west4/trainingPipelines/1751472545023918080 current state:\n",
      "PipelineState.PIPELINE_STATE_RUNNING\n",
      "AutoMLImageTrainingJob projects/481904805065/locations/europe-west4/trainingPipelines/1751472545023918080 current state:\n",
      "PipelineState.PIPELINE_STATE_RUNNING\n",
      "AutoMLImageTrainingJob projects/481904805065/locations/europe-west4/trainingPipelines/1751472545023918080 current state:\n",
      "PipelineState.PIPELINE_STATE_RUNNING\n",
      "AutoMLImageTrainingJob projects/481904805065/locations/europe-west4/trainingPipelines/1751472545023918080 current state:\n",
      "PipelineState.PIPELINE_STATE_RUNNING\n",
      "AutoMLImageTrainingJob projects/481904805065/locations/europe-west4/trainingPipelines/1751472545023918080 current state:\n",
      "PipelineState.PIPELINE_STATE_RUNNING\n",
      "AutoMLImageTrainingJob projects/481904805065/locations/europe-west4/trainingPipelines/1751472545023918080 current state:\n",
      "PipelineState.PIPELINE_STATE_RUNNING\n",
      "AutoMLImageTrainingJob projects/481904805065/locations/europe-west4/trainingPipelines/1751472545023918080 current state:\n",
      "PipelineState.PIPELINE_STATE_RUNNING\n",
      "AutoMLImageTrainingJob projects/481904805065/locations/europe-west4/trainingPipelines/1751472545023918080 current state:\n",
      "PipelineState.PIPELINE_STATE_RUNNING\n",
      "AutoMLImageTrainingJob run completed. Resource name: projects/481904805065/locations/europe-west4/trainingPipelines/1751472545023918080\n",
      "Model available at projects/481904805065/locations/europe-west4/models/5338955785596567552\n"
     ]
    }
   ],
   "source": [
    "# Run training job\n",
    "model = job.run(\n",
    "    dataset=dataset,\n",
    "    training_fraction_split=0.7,\n",
    "    validation_fraction_split=0.15,\n",
    "    test_fraction_split=0.15,\n",
    "    budget_milli_node_hours=8000\n",
    ")"
   ]
  },
  {
   "cell_type": "code",
   "execution_count": 3,
   "id": "c1e44fa2-cb13-43c9-88a7-caefdfdf7520",
   "metadata": {},
   "outputs": [],
   "source": [
    "# Retrieve model after training\n",
    "model_id = 'projects/481904805065/locations/europe-west4/models/5338955785596567552' # E.g.: projects/268076997885/locations/europe-west1/models/1312975213238942344\n",
    "model = aiplatform.Model(model_id)"
   ]
  },
  {
   "cell_type": "code",
   "execution_count": 4,
   "id": "cfda7c12-c3e9-4e9a-8fdc-a1852b110e4a",
   "metadata": {},
   "outputs": [
    {
     "data": {
      "text/plain": [
       "['_FutureManager__latest_future',\n",
       " '_FutureManager__latest_future_lock',\n",
       " '__abstractmethods__',\n",
       " '__annotations__',\n",
       " '__class__',\n",
       " '__delattr__',\n",
       " '__dict__',\n",
       " '__dir__',\n",
       " '__doc__',\n",
       " '__eq__',\n",
       " '__format__',\n",
       " '__ge__',\n",
       " '__getattribute__',\n",
       " '__gt__',\n",
       " '__hash__',\n",
       " '__init__',\n",
       " '__init_subclass__',\n",
       " '__le__',\n",
       " '__lt__',\n",
       " '__module__',\n",
       " '__ne__',\n",
       " '__new__',\n",
       " '__reduce__',\n",
       " '__reduce_ex__',\n",
       " '__repr__',\n",
       " '__setattr__',\n",
       " '__sizeof__',\n",
       " '__str__',\n",
       " '__subclasshook__',\n",
       " '__weakref__',\n",
       " '_abc_impl',\n",
       " '_are_futures_done',\n",
       " '_assert_gca_resource_is_available',\n",
       " '_complete_future',\n",
       " '_construct_sdk_resource_from_gapic',\n",
       " '_delete_method',\n",
       " '_deploy',\n",
       " '_empty_constructor',\n",
       " '_exception',\n",
       " '_format_resource_name',\n",
       " '_format_resource_name_method',\n",
       " '_gca_resource',\n",
       " '_generate_display_name',\n",
       " '_get_and_validate_project_location',\n",
       " '_get_gca_resource',\n",
       " '_getter_method',\n",
       " '_instantiate_client',\n",
       " '_latest_future',\n",
       " '_list',\n",
       " '_list_method',\n",
       " '_list_with_local_order',\n",
       " '_parse_resource_name',\n",
       " '_parse_resource_name_method',\n",
       " '_project_tuple',\n",
       " '_raise_future_exception',\n",
       " '_registry',\n",
       " '_resource_id_validator',\n",
       " '_resource_is_available',\n",
       " '_resource_noun',\n",
       " '_revisioned_resource_id_validator',\n",
       " '_submit',\n",
       " '_sync_gca_resource',\n",
       " '_sync_object_with_future_result',\n",
       " '_wait_for_resource_creation',\n",
       " '_wait_on_export',\n",
       " 'api_client',\n",
       " 'batch_predict',\n",
       " 'client_class',\n",
       " 'container_spec',\n",
       " 'create_time',\n",
       " 'credentials',\n",
       " 'delete',\n",
       " 'deploy',\n",
       " 'description',\n",
       " 'display_name',\n",
       " 'encryption_spec',\n",
       " 'export_model',\n",
       " 'gca_resource',\n",
       " 'get_model_evaluation',\n",
       " 'labels',\n",
       " 'list',\n",
       " 'list_model_evaluations',\n",
       " 'location',\n",
       " 'name',\n",
       " 'predict_schemata',\n",
       " 'project',\n",
       " 'resource_name',\n",
       " 'supported_deployment_resources_types',\n",
       " 'supported_export_formats',\n",
       " 'supported_input_storage_formats',\n",
       " 'supported_output_storage_formats',\n",
       " 'to_dict',\n",
       " 'training_job',\n",
       " 'update',\n",
       " 'update_time',\n",
       " 'upload',\n",
       " 'upload_scikit_learn_model_file',\n",
       " 'upload_tensorflow_saved_model',\n",
       " 'upload_xgboost_model_file',\n",
       " 'uri',\n",
       " 'version_aliases',\n",
       " 'version_create_time',\n",
       " 'version_description',\n",
       " 'version_id',\n",
       " 'version_update_time',\n",
       " 'versioned_resource_name',\n",
       " 'versioning_registry',\n",
       " 'wait']"
      ]
     },
     "execution_count": 4,
     "metadata": {},
     "output_type": "execute_result"
    }
   ],
   "source": [
    "dir(model)"
   ]
  },
  {
   "cell_type": "code",
   "execution_count": 9,
   "id": "5df5ecaf-0073-4bb6-a650-0f1e752026a0",
   "metadata": {},
   "outputs": [
    {
     "data": {
      "text/plain": [
       "instance_schema_uri: \"https://storage.googleapis.com/google-cloud-aiplatform/schema/predict/instance/image_classification_1.0.0.yaml\"\n",
       "parameters_schema_uri: \"https://storage.googleapis.com/google-cloud-aiplatform/schema/predict/params/image_classification_1.0.0.yaml\"\n",
       "prediction_schema_uri: \"https://storage.googleapis.com/google-cloud-aiplatform/schema/predict/prediction/classification_1.0.0.yaml\""
      ]
     },
     "execution_count": 9,
     "metadata": {},
     "output_type": "execute_result"
    }
   ],
   "source": [
    "model.predict_schemata"
   ]
  },
  {
   "cell_type": "code",
   "execution_count": 7,
   "id": "2ed24137-2ec4-4d6f-a0fe-3314d16302ac",
   "metadata": {},
   "outputs": [
    {
     "data": {
      "text/plain": [
       "['jsonl']"
      ]
     },
     "execution_count": 7,
     "metadata": {},
     "output_type": "execute_result"
    }
   ],
   "source": [
    "model.supported_input_storage_formats"
   ]
  }
 ],
 "metadata": {
  "environment": {
   "kernel": "python3",
   "name": "common-cpu.m95",
   "type": "gcloud",
   "uri": "gcr.io/deeplearning-platform-release/base-cpu:m95"
  },
  "kernelspec": {
   "display_name": "Python 3",
   "language": "python",
   "name": "python3"
  },
  "language_info": {
   "codemirror_mode": {
    "name": "ipython",
    "version": 3
   },
   "file_extension": ".py",
   "mimetype": "text/x-python",
   "name": "python",
   "nbconvert_exporter": "python",
   "pygments_lexer": "ipython3",
   "version": "3.7.12"
  }
 },
 "nbformat": 4,
 "nbformat_minor": 5
}
