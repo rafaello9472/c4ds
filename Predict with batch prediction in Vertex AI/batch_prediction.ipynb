{
 "cells": [
  {
   "cell_type": "markdown",
   "id": "a491ee7d-ccf2-4208-997c-f84d62d3c64e",
   "metadata": {},
   "source": [
    "#### Batch prediction"
   ]
  },
  {
   "cell_type": "code",
   "execution_count": null,
   "id": "5902098f-cc7c-433c-9bb7-a28e3135fe13",
   "metadata": {
    "tags": []
   },
   "outputs": [],
   "source": [
    "# Import Vertex AI library\n",
    "from google.cloud import aiplatform\n",
    "\n",
    "# Initialize connection\n",
    "aiplatform.init(location='europe-west1')"
   ]
  },
  {
   "cell_type": "code",
   "execution_count": null,
   "id": "a3fd8c87-d039-4a6c-983a-805c497808e7",
   "metadata": {},
   "outputs": [],
   "source": [
    "# Get model that will make a batch prediction\n",
    "model_id = 'projects/268076997885/locations/europe-west1/models/8895049068707840000'\n",
    "model = aiplatform.Model(model_id)"
   ]
  },
  {
   "cell_type": "code",
   "execution_count": null,
   "id": "6e8e18fa-c189-441d-8b42-930a3f2bd03a",
   "metadata": {
    "tags": []
   },
   "outputs": [],
   "source": [
    "# Check the supported batch prediction jobs input formats\n",
    "model.supported_input_storage_formats"
   ]
  },
  {
   "cell_type": "code",
   "execution_count": null,
   "id": "b4f207e9-2a99-48d1-98f5-9c6282d23a25",
   "metadata": {},
   "outputs": [],
   "source": [
    "# Define required arguments for batch prediction job\n",
    "job_display_name = 'stroke'\n",
    "bigquery_source = 'bq://cloud4datascience.test_datasets.new_stroke_data'\n",
    "bigquery_destination_prefix = 'bq://cloud4datascience.test_datasets'"
   ]
  },
  {
   "cell_type": "code",
   "execution_count": null,
   "id": "6234a79a-b1ab-4f7c-ad61-99f49074af12",
   "metadata": {},
   "outputs": [],
   "source": [
    "# Create batch prediction job\n",
    "batch_prediction_job = model.batch_predict(\n",
    "    job_display_name=job_display_name,\n",
    "    bigquery_source=bigquery_source,\n",
    "    bigquery_destination_prefix=bigquery_destination_prefix,\n",
    ")"
   ]
  },
  {
   "cell_type": "markdown",
   "id": "43ba7da1-3434-4fbb-a913-0fb1815bd166",
   "metadata": {},
   "source": [
    "#### Transforming raw results into final score table"
   ]
  },
  {
   "cell_type": "code",
   "execution_count": null,
   "id": "d5f5ed3e-1c14-4805-a768-673393d3aa19",
   "metadata": {},
   "outputs": [],
   "source": [
    "# Get the job output information\n",
    "batch_prediction_job.output_info"
   ]
  },
  {
   "cell_type": "code",
   "execution_count": null,
   "id": "25e6428e-f239-4176-a16b-3ca690eeeb93",
   "metadata": {},
   "outputs": [],
   "source": [
    "# Get it's type\n",
    "type(batch_prediction_job.output_info)"
   ]
  },
  {
   "cell_type": "code",
   "execution_count": null,
   "id": "e3b5cc95-f243-476f-9e08-08f221a3bdf8",
   "metadata": {},
   "outputs": [],
   "source": [
    "# Convert output job information into string\n",
    "output_info_str = str(batch_prediction_job.output_info)\n",
    "output_info_str"
   ]
  },
  {
   "cell_type": "code",
   "execution_count": null,
   "id": "ef7a1817-189d-484a-9c84-4b2832433dc8",
   "metadata": {},
   "outputs": [],
   "source": [
    "# Split elements of the output by whitespace\n",
    "output_info_list = output_info_str.split()\n",
    "output_info_list"
   ]
  },
  {
   "cell_type": "code",
   "execution_count": null,
   "id": "a208feb9-877f-48e5-86f0-f33cb8e2adbd",
   "metadata": {},
   "outputs": [],
   "source": [
    "# Remove double quotes from strings\n",
    "output_info_list = [x.replace('\"', '') for x in output_info_list]\n",
    "output_info_list"
   ]
  },
  {
   "cell_type": "code",
   "execution_count": null,
   "id": "0efcf825-5f0d-49d4-bdc1-dba4b901d3c5",
   "metadata": {},
   "outputs": [],
   "source": [
    "# Part which holds project and dataset name\n",
    "dataset_str = output_info_list[1]\n",
    "\n",
    "# Part which holds table name\n",
    "table_str = output_info_list[3]\n",
    "\n",
    "print(f'Project & dataset: {dataset_str} \\nTable: {table_str}')"
   ]
  },
  {
   "cell_type": "code",
   "execution_count": null,
   "id": "c6c9b930-327e-4e06-a37b-a82231e098a9",
   "metadata": {},
   "outputs": [],
   "source": [
    "# Get everything after 'bg://' part from the dataset_str\n",
    "import re\n",
    "\n",
    "# Define regex pattern to look for\n",
    "pattern = r'(?<=bq://).*'\n",
    "\n",
    "# Run the regex search and show variable\n",
    "result = re.search(pattern, dataset_str)\n",
    "dataset_str = result.group(0)\n",
    "dataset_str"
   ]
  },
  {
   "cell_type": "code",
   "execution_count": null,
   "id": "73184692-c1cb-41af-81a9-2b2ea41b1edc",
   "metadata": {},
   "outputs": [],
   "source": [
    "# Define Table ID \n",
    "table_id = dataset_str + '.' + table_str\n",
    "table_id"
   ]
  },
  {
   "cell_type": "code",
   "execution_count": null,
   "id": "2cac7dfb-6e65-4838-af20-8c79e40557f9",
   "metadata": {},
   "outputs": [],
   "source": [
    "# Read bigquery library and define client\n",
    "from google.cloud import bigquery\n",
    "client = bigquery.Client()"
   ]
  },
  {
   "cell_type": "code",
   "execution_count": null,
   "id": "87aade64-0cf5-418d-8322-c9213d30d8b0",
   "metadata": {},
   "outputs": [],
   "source": [
    "# Define query which will create a table in BigQuery and run it\n",
    "query = f\"\"\"\n",
    "CREATE OR REPLACE TABLE test_datasets.stroke_predictions AS (\n",
    "  SELECT id, predicted_stroke.scores[offset(1)] AS score, \n",
    "  FROM {table_id}\n",
    ")\n",
    "\"\"\"\n",
    "client.query(query)"
   ]
  },
  {
   "cell_type": "code",
   "execution_count": null,
   "id": "936b1fdf-5ce4-4abd-9ed6-46853245f6cf",
   "metadata": {},
   "outputs": [],
   "source": [
    "# Delete original raw table with results as it is no longer needed\n",
    "client.delete_table(table_id)\n",
    "print(\"Deleted table '{}'.\".format(table_id))"
   ]
  }
 ],
 "metadata": {
  "environment": {
   "kernel": "python3",
   "name": "common-cpu.m94",
   "type": "gcloud",
   "uri": "gcr.io/deeplearning-platform-release/base-cpu:m94"
  },
  "kernelspec": {
   "display_name": "Python 3",
   "language": "python",
   "name": "python3"
  },
  "language_info": {
   "codemirror_mode": {
    "name": "ipython",
    "version": 3
   },
   "file_extension": ".py",
   "mimetype": "text/x-python",
   "name": "python",
   "nbconvert_exporter": "python",
   "pygments_lexer": "ipython3",
   "version": "3.7.12"
  },
  "toc-showcode": true
 },
 "nbformat": 4,
 "nbformat_minor": 5
}
