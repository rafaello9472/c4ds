{
 "cells": [
  {
   "cell_type": "code",
   "execution_count": 1,
   "id": "e0c8df6a-c28f-4367-bfa4-0fb45523f610",
   "metadata": {},
   "outputs": [],
   "source": [
    "# Import Vertex AI library\n",
    "from google.cloud import aiplatform"
   ]
  },
  {
   "cell_type": "code",
   "execution_count": 2,
   "id": "ef91f4c1-a4ad-4ef7-83e3-2edee938dcaa",
   "metadata": {},
   "outputs": [],
   "source": [
    "# Initialize connection\n",
    "aiplatform.init(location='europe-west1')"
   ]
  },
  {
   "cell_type": "markdown",
   "id": "995e6a40-41f3-4477-9af9-90459ad1aeff",
   "metadata": {},
   "source": [
    "#### Dataset from BigQuery"
   ]
  },
  {
   "cell_type": "code",
   "execution_count": 3,
   "id": "4e2f9173-73f7-4d0c-a24a-f926c50477c8",
   "metadata": {},
   "outputs": [
    {
     "name": "stdout",
     "output_type": "stream",
     "text": [
      "Creating TabularDataset\n",
      "Create TabularDataset backing LRO: projects/268076997885/locations/europe-west1/datasets/8187297831954939904/operations/8840612248016650240\n",
      "TabularDataset created. Resource name: projects/268076997885/locations/europe-west1/datasets/8187297831954939904\n",
      "To use this TabularDataset in another session:\n",
      "ds = aiplatform.TabularDataset('projects/268076997885/locations/europe-west1/datasets/8187297831954939904')\n"
     ]
    }
   ],
   "source": [
    "# Define BigQuery source \n",
    "bq_source = 'bq://cloud4datascience.test_datasets.diabetes'\n",
    "\n",
    "# Define the dataset name\n",
    "dataset_display_name = 'diabetes_bq'\n",
    "\n",
    "# Create the dataset inside Vertex AI\n",
    "create_dataset_task = aiplatform.TabularDataset.create(\n",
    "    display_name=dataset_display_name,\n",
    "    bq_source=bq_source\n",
    ")\n",
    "create_dataset_task.wait()"
   ]
  },
  {
   "cell_type": "code",
   "execution_count": 4,
   "id": "516bb464-a2c6-484b-a041-227ca34c6704",
   "metadata": {},
   "outputs": [
    {
     "data": {
      "text/plain": [
       "<google.cloud.aiplatform.datasets.tabular_dataset.TabularDataset object at 0x7f64c197fbd0> \n",
       "resource name: projects/268076997885/locations/europe-west1/datasets/8187297831954939904"
      ]
     },
     "execution_count": 4,
     "metadata": {},
     "output_type": "execute_result"
    }
   ],
   "source": [
    "# Get dataset\n",
    "dataset = aiplatform.TabularDataset(create_dataset_task.resource_name)\n",
    "dataset"
   ]
  },
  {
   "cell_type": "markdown",
   "id": "34bce917-1051-4e45-940d-9bdc6b0aaa02",
   "metadata": {
    "tags": []
   },
   "source": [
    "#### Dataset from Cloud Storage"
   ]
  },
  {
   "cell_type": "code",
   "execution_count": 5,
   "id": "8b4e656c-3d4d-4b03-84b9-12e65a509b41",
   "metadata": {},
   "outputs": [
    {
     "name": "stdout",
     "output_type": "stream",
     "text": [
      "Creating TabularDataset\n",
      "Create TabularDataset backing LRO: projects/268076997885/locations/europe-west1/datasets/9218622146622783488/operations/5296173788159803392\n",
      "TabularDataset created. Resource name: projects/268076997885/locations/europe-west1/datasets/9218622146622783488\n",
      "To use this TabularDataset in another session:\n",
      "ds = aiplatform.TabularDataset('projects/268076997885/locations/europe-west1/datasets/9218622146622783488')\n"
     ]
    }
   ],
   "source": [
    "# Define Google Cloud Storage source \n",
    "gcs_source = 'gs://c4ds-datasets/diabetes.csv'\n",
    "\n",
    "# Define the dataset name\n",
    "dataset_display_name = 'diabetes_gcs'\n",
    "\n",
    "# Create the dataset inside Vertex AI\n",
    "create_dataset_task = aiplatform.TabularDataset.create(\n",
    "    display_name=dataset_display_name,\n",
    "    gcs_source=gcs_source\n",
    ")\n",
    "create_dataset_task.wait()"
   ]
  },
  {
   "cell_type": "code",
   "execution_count": null,
   "id": "0bce9ba9-93f3-448c-8627-bc21b1fa436b",
   "metadata": {},
   "outputs": [],
   "source": [
    "# Get dataset\n",
    "dataset = aiplatform.TabularDataset(create_dataset_task.resource_name)\n",
    "dataset"
   ]
  },
  {
   "cell_type": "markdown",
   "id": "003637eb-b154-4d95-be7d-af814b8a84fe",
   "metadata": {},
   "source": [
    "#### Dataset from Dataframe"
   ]
  },
  {
   "cell_type": "code",
   "execution_count": 6,
   "id": "c040a937-1f1c-46f0-884f-c25304c9e17c",
   "metadata": {},
   "outputs": [
    {
     "name": "stdout",
     "output_type": "stream",
     "text": [
      "Your DataFrame has 768 rows and AutoML requires 1000 rows to train on tabular data. You can still train a custom model once your dataset has been uploaded to Vertex, but you will not be able to use AutoML for training.\n",
      "Creating TabularDataset\n",
      "Create TabularDataset backing LRO: projects/268076997885/locations/europe-west1/datasets/7948607051704303616/operations/1083161889870970880\n",
      "TabularDataset created. Resource name: projects/268076997885/locations/europe-west1/datasets/7948607051704303616\n",
      "To use this TabularDataset in another session:\n",
      "ds = aiplatform.TabularDataset('projects/268076997885/locations/europe-west1/datasets/7948607051704303616')\n"
     ]
    }
   ],
   "source": [
    "import pandas as pd\n",
    "\n",
    "# Define BigQuery staging path \n",
    "bq_staging_path = 'bq://cloud4datascience.test_datasets.diabetes_df'\n",
    "\n",
    "# Read the dataset from local file\n",
    "df = pd.read_csv('diabetes.csv')\n",
    "\n",
    "# Define the dataset name\n",
    "dataset_display_name = 'diabetes_df'\n",
    "\n",
    "# Create the dataset inside Vertex AI\n",
    "create_dataset_task = aiplatform.TabularDataset.create_from_dataframe(\n",
    "    df_source=df,\n",
    "    staging_path=bq_staging_path,\n",
    "    display_name=dataset_display_name)\n",
    "create_dataset_task.wait()"
   ]
  }
 ],
 "metadata": {
  "environment": {
   "kernel": "python3",
   "name": "common-cpu.m93",
   "type": "gcloud",
   "uri": "gcr.io/deeplearning-platform-release/base-cpu:m93"
  },
  "kernelspec": {
   "display_name": "Python 3",
   "language": "python",
   "name": "python3"
  },
  "language_info": {
   "codemirror_mode": {
    "name": "ipython",
    "version": 3
   },
   "file_extension": ".py",
   "mimetype": "text/x-python",
   "name": "python",
   "nbconvert_exporter": "python",
   "pygments_lexer": "ipython3",
   "version": "3.7.12"
  }
 },
 "nbformat": 4,
 "nbformat_minor": 5
}
