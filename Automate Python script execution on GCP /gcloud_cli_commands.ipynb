{
 "cells": [
  {
   "cell_type": "code",
   "execution_count": null,
   "id": "6d143ab0-daa9-468e-9c7e-d75418263581",
   "metadata": {},
   "outputs": [],
   "source": [
    "# Command to create a Pub/Sub topic\n",
    "gcloud pubsub topics create cloud-function-trigger-cli"
   ]
  },
  {
   "cell_type": "code",
   "execution_count": null,
   "id": "9122209d-e9f1-45b9-871e-b98f21d292ca",
   "metadata": {},
   "outputs": [],
   "source": [
    "# Command to create Cloud Function\n",
    "gcloud functions deploy generate-data-cli \\\n",
    "    --trigger-topic=cloud-function-trigger-cli \\\n",
    "    --source=gs://c4ds/cloud-function-example.zip \\\n",
    "    --runtime=python311 \\\n",
    "    --entry-point=hello_pubsub"
   ]
  },
  {
   "cell_type": "code",
   "execution_count": null,
   "id": "58a3b8d5-5261-465c-9d06-ddd81d101611",
   "metadata": {},
   "outputs": [],
   "source": [
    "# Command to create Cloud Scheduler job\n",
    "gcloud scheduler jobs create pubsub cf-daily-cli \\\n",
    "    --schedule='0 0 * * *' \\\n",
    "    --location='europe-central2' \\\n",
    "    --topic=cloud-function-trigger-cli \\\n",
    "    --message-body='Starting automatic execution triggered by Cloud Scheduler job.'"
   ]
  },
  {
   "cell_type": "code",
   "execution_count": null,
   "id": "0531aa6e-79d0-476f-9916-22f041b355b5",
   "metadata": {},
   "outputs": [],
   "source": [
    "# Command to trigger the Cloud Scheduler job manually\n",
    "gcloud scheduler jobs run cf-daily-cli \\\n",
    "    --location='europe-central2'"
   ]
  }
 ],
 "metadata": {
  "environment": {
   "kernel": "python3",
   "name": "common-cpu.m95",
   "type": "gcloud",
   "uri": "gcr.io/deeplearning-platform-release/base-cpu:m95"
  },
  "kernelspec": {
   "display_name": "Python 3",
   "language": "python",
   "name": "python3"
  },
  "language_info": {
   "codemirror_mode": {
    "name": "ipython",
    "version": 3
   },
   "file_extension": ".py",
   "mimetype": "text/x-python",
   "name": "python",
   "nbconvert_exporter": "python",
   "pygments_lexer": "ipython3",
   "version": "3.7.12"
  }
 },
 "nbformat": 4,
 "nbformat_minor": 5
}
