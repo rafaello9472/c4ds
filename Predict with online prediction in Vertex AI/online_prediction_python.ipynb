{
 "cells": [
  {
   "cell_type": "code",
   "execution_count": 1,
   "id": "6de17e19-6099-4526-bc0f-71bbb4be33c1",
   "metadata": {},
   "outputs": [],
   "source": [
    "# Prediction function from \n",
    "# https://github.com/googleapis/python-aiplatform/blob/main/samples/snippets/prediction_service/predict_tabular_classification_sample.py\n",
    "# Copyright 2020 Google LLC\n",
    "#\n",
    "# Licensed under the Apache License, Version 2.0 (the \"License\");\n",
    "# you may not use this file except in compliance with the License.\n",
    "# You may obtain a copy of the License at\n",
    "#\n",
    "#     https://www.apache.org/licenses/LICENSE-2.0\n",
    "#\n",
    "# Unless required by applicable law or agreed to in writing, software\n",
    "# distributed under the License is distributed on an \"AS IS\" BASIS,\n",
    "# WITHOUT WARRANTIES OR CONDITIONS OF ANY KIND, either express or implied.\n",
    "# See the License for the specific language governing permissions and\n",
    "# limitations under the License.\n",
    "\n",
    "# [START aiplatform_predict_tabular_classification_sample]\n",
    "from typing import Dict\n",
    "\n",
    "from google.cloud import aiplatform\n",
    "from google.protobuf import json_format\n",
    "from google.protobuf.struct_pb2 import Value\n",
    "\n",
    "\n",
    "def predict_tabular_classification_sample(\n",
    "    project: str,\n",
    "    endpoint_id: str,\n",
    "    instance_dict: Dict,\n",
    "    location: str = \"us-central1\",\n",
    "    api_endpoint: str = \"us-central1-aiplatform.googleapis.com\",\n",
    "):\n",
    "    # The AI Platform services require regional API endpoints.\n",
    "    client_options = {\"api_endpoint\": api_endpoint}\n",
    "    # Initialize client that will be used to create and send requests.\n",
    "    # This client only needs to be created once, and can be reused for multiple requests.\n",
    "    client = aiplatform.gapic.PredictionServiceClient(client_options=client_options)\n",
    "    # for more info on the instance schema, please use get_model_sample.py\n",
    "    # and look at the yaml found in instance_schema_uri\n",
    "    instance = json_format.ParseDict(instance_dict, Value())\n",
    "    instances = [instance]\n",
    "    parameters_dict = {}\n",
    "    parameters = json_format.ParseDict(parameters_dict, Value())\n",
    "    endpoint = client.endpoint_path(\n",
    "        project=project, location=location, endpoint=endpoint_id\n",
    "    )\n",
    "    response = client.predict(\n",
    "        endpoint=endpoint, instances=instances, parameters=parameters\n",
    "    )\n",
    "    print(\"response\")\n",
    "    print(\" deployed_model_id:\", response.deployed_model_id)\n",
    "    # See gs://google-cloud-aiplatform/schema/predict/prediction/tabular_classification_1.0.0.yaml for the format of the predictions.\n",
    "    predictions = response.predictions\n",
    "    for prediction in predictions:\n",
    "        print(\" prediction:\", dict(prediction))\n",
    "\n",
    "\n",
    "# [END aiplatform_predict_tabular_classification_sample]"
   ]
  },
  {
   "cell_type": "code",
   "execution_count": 2,
   "id": "6d105d65-0b3b-4ed5-b310-485d42a0e2fc",
   "metadata": {
    "tags": []
   },
   "outputs": [],
   "source": [
    "# Example of an input data that will be scored by the model\n",
    "example_1 = {\"gender\": \"Female\",\n",
    "                \"age\": \"65.0\",\n",
    "                \"hypertension\": \"1\",\n",
    "                \"heart_disease\": \"1\",\n",
    "                \"ever_married\": \"Yes\",\n",
    "                \"work_type\": \"Private\",\n",
    "                \"Residence_type\": \"Urban\",\n",
    "                \"avg_glucose_level\": \"191.9\",\n",
    "                \"bmi\": \"38.1\",\n",
    "                \"smoking_status\": \"never smoked\"}"
   ]
  },
  {
   "cell_type": "code",
   "execution_count": 3,
   "id": "90a74fbc-6763-4e90-85f1-ca50ebe73098",
   "metadata": {},
   "outputs": [
    {
     "name": "stdout",
     "output_type": "stream",
     "text": [
      "response\n",
      " deployed_model_id: 4894374855975108608\n",
      " prediction: {'scores': [0.81638503074646, 0.1836148947477341], 'classes': ['0', '1']}\n"
     ]
    }
   ],
   "source": [
    "predict_tabular_classification_sample(\n",
    "    project=\"268076997885\",\n",
    "    endpoint_id=\"6604264970748166144\",\n",
    "    location=\"europe-west1\",\n",
    "    instance_dict=example_1,\n",
    "    api_endpoint=\"europe-west1-aiplatform.googleapis.com\"\n",
    ")"
   ]
  }
 ],
 "metadata": {
  "environment": {
   "kernel": "python3",
   "name": "common-cpu.m94",
   "type": "gcloud",
   "uri": "gcr.io/deeplearning-platform-release/base-cpu:m94"
  },
  "kernelspec": {
   "display_name": "Python 3",
   "language": "python",
   "name": "python3"
  },
  "language_info": {
   "codemirror_mode": {
    "name": "ipython",
    "version": 3
   },
   "file_extension": ".py",
   "mimetype": "text/x-python",
   "name": "python",
   "nbconvert_exporter": "python",
   "pygments_lexer": "ipython3",
   "version": "3.7.12"
  }
 },
 "nbformat": 4,
 "nbformat_minor": 5
}
