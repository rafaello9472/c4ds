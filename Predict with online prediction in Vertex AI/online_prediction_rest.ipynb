{
 "cells": [
  {
   "cell_type": "code",
   "execution_count": null,
   "id": "3927a545-0ddb-47ef-9e58-7f4932786ab7",
   "metadata": {},
   "outputs": [],
   "source": [
    "# Environment variables\n",
    "ENDPOINT_ID=\"6604264970748166144\"\n",
    "PROJECT_ID=\"268076997885\"\n",
    "INPUT_DATA_FILE=\"input_data_multiple_items.json\""
   ]
  },
  {
   "cell_type": "code",
   "execution_count": null,
   "id": "aec9913d-78fb-4444-b751-ad3cc8159cb7",
   "metadata": {},
   "outputs": [],
   "source": [
    "# Request\n",
    "curl \\\n",
    "-X POST \\\n",
    "-H \"Authorization: Bearer $(gcloud auth print-access-token)\" \\\n",
    "-H \"Content-Type: application/json\" \\\n",
    "https://europe-west1-aiplatform.googleapis.com/v1/projects/${PROJECT_ID}/locations/europe-west1/endpoints/${ENDPOINT_ID}:predict \\\n",
    "-d \"@${INPUT_DATA_FILE}\""
   ]
  }
 ],
 "metadata": {
  "environment": {
   "kernel": "python3",
   "name": "common-cpu.m94",
   "type": "gcloud",
   "uri": "gcr.io/deeplearning-platform-release/base-cpu:m94"
  },
  "kernelspec": {
   "display_name": "Python 3",
   "language": "python",
   "name": "python3"
  },
  "language_info": {
   "codemirror_mode": {
    "name": "ipython",
    "version": 3
   },
   "file_extension": ".py",
   "mimetype": "text/x-python",
   "name": "python",
   "nbconvert_exporter": "python",
   "pygments_lexer": "ipython3",
   "version": "3.7.12"
  }
 },
 "nbformat": 4,
 "nbformat_minor": 5
}
