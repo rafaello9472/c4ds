{
 "cells": [
  {
   "cell_type": "code",
   "execution_count": 1,
   "id": "fcae631d-ea71-4621-99f5-a5cdd6475b07",
   "metadata": {},
   "outputs": [],
   "source": [
    "import pandas as pd\n",
    "import json\n",
    "from gcloud import storage\n",
    "\n",
    "# Define Cloud Storage client and bucket to which files will be exported\n",
    "client = storage.Client()\n",
    "bucket = client.get_bucket('c4ds-europe-west4')"
   ]
  },
  {
   "cell_type": "code",
   "execution_count": 2,
   "id": "3ea9b54a-b0ec-4d7e-a6c0-7b0c61150a95",
   "metadata": {},
   "outputs": [],
   "source": [
    "# Get adresses of all files with the file jpg extension from GCP to CSV file.\n",
    "!gcloud storage ls --recursive gs://c4ds-europe-west4/images_to_score/*.jpg > images_uri.csv"
   ]
  },
  {
   "cell_type": "code",
   "execution_count": 3,
   "id": "5797b9cc-6dee-438a-9835-1a4d4e1247f3",
   "metadata": {},
   "outputs": [],
   "source": [
    "# Create DataFrames from CSV files.\n",
    "df_images = pd.read_csv('images_uri.csv', header=None)"
   ]
  },
  {
   "cell_type": "code",
   "execution_count": 4,
   "id": "176821b4-b063-45c9-8208-a330e49b5b63",
   "metadata": {},
   "outputs": [],
   "source": [
    "# Create list with GCS adresses of images.\n",
    "path_list = list(df_images.iloc[:,0])"
   ]
  },
  {
   "cell_type": "code",
   "execution_count": 5,
   "id": "0b84b796-3b06-4968-b9d0-610e063b2274",
   "metadata": {},
   "outputs": [],
   "source": [
    "# Use image addresses to create an input file according to requirements.\n",
    "input_json = [{\"content\": path} for path in path_list]"
   ]
  },
  {
   "cell_type": "code",
   "execution_count": 6,
   "id": "b983f0cf-98cf-4bfc-b6fd-34668bb75acf",
   "metadata": {},
   "outputs": [],
   "source": [
    "# Save input file locally\n",
    "with open('input_file.jsonl', 'w') as file:\n",
    "    for entry in input_json:\n",
    "        json.dump(entry, file)\n",
    "        file.write('\\n')"
   ]
  },
  {
   "cell_type": "code",
   "execution_count": 7,
   "id": "f095d18a-c242-4af0-baa0-9bdf8b2aa923",
   "metadata": {},
   "outputs": [],
   "source": [
    "# Export input file to Cloud Storage\n",
    "blob = bucket.blob('input_file.jsonl')\n",
    "blob.upload_from_filename('input_file.jsonl')"
   ]
  }
 ],
 "metadata": {
  "environment": {
   "kernel": "python3",
   "name": "common-cpu.m95",
   "type": "gcloud",
   "uri": "gcr.io/deeplearning-platform-release/base-cpu:m95"
  },
  "kernelspec": {
   "display_name": "Python 3",
   "language": "python",
   "name": "python3"
  },
  "language_info": {
   "codemirror_mode": {
    "name": "ipython",
    "version": 3
   },
   "file_extension": ".py",
   "mimetype": "text/x-python",
   "name": "python",
   "nbconvert_exporter": "python",
   "pygments_lexer": "ipython3",
   "version": "3.7.12"
  }
 },
 "nbformat": 4,
 "nbformat_minor": 5
}
