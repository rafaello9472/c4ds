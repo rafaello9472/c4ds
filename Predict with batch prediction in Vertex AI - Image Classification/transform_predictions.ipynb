{
 "cells": [
  {
   "cell_type": "code",
   "execution_count": 41,
   "id": "80ddf617-11c2-4aa0-a90e-077849d10314",
   "metadata": {},
   "outputs": [],
   "source": [
    "# Import required libraries. \n",
    "import ndjson\n",
    "import pandas as pd\n",
    "from google.cloud import aiplatform\n",
    "from google.cloud import storage\n",
    "\n",
    "# Initialize Vertex AI connection.\n",
    "aiplatform.init(location='europe-west4')\n",
    "\n",
    "# Define Cloud Storage client.\n",
    "client = storage.Client()"
   ]
  },
  {
   "cell_type": "code",
   "execution_count": 4,
   "id": "48297927-327b-46ce-9c03-c87f7f209206",
   "metadata": {},
   "outputs": [],
   "source": [
    "# Get the batch prediction job.\n",
    "job_id = '751954902724378624'\n",
    "batch_prediction_job = aiplatform.BatchPredictionJob(job_id)"
   ]
  },
  {
   "cell_type": "code",
   "execution_count": 11,
   "id": "3d0b3fca-6acd-4382-abbd-dfc34e83d0a3",
   "metadata": {},
   "outputs": [
    {
     "data": {
      "text/plain": [
       "'gs://c4ds-europe-west4/prediction-lemon_quality_model-2022-12-06T12:46:06.043433Z'"
      ]
     },
     "execution_count": 11,
     "metadata": {},
     "output_type": "execute_result"
    }
   ],
   "source": [
    "# Get the job output folder.\n",
    "results_folder = batch_prediction_job.output_info.gcs_output_directory\n",
    "results_folder"
   ]
  },
  {
   "cell_type": "code",
   "execution_count": 12,
   "id": "cd12b4a1-1071-4696-b35a-ba8959d99112",
   "metadata": {},
   "outputs": [
    {
     "data": {
      "text/plain": [
       "'prediction-lemon_quality_model-2022-12-06T12:46:06.043433Z'"
      ]
     },
     "execution_count": 12,
     "metadata": {},
     "output_type": "execute_result"
    }
   ],
   "source": [
    "# Create prefix to filter blobs\n",
    "prefix_filter = results_folder.replace('gs://c4ds-europe-west4/','')\n",
    "prefix_filter"
   ]
  },
  {
   "cell_type": "code",
   "execution_count": 42,
   "id": "f535bc8c-f662-4358-8195-7550c77d9952",
   "metadata": {},
   "outputs": [],
   "source": [
    "\n",
    "\n",
    "# Define Cloud Storage client and bucket to which files will be exported\n",
    "client = storage.Client()\n",
    "bucket = client.get_bucket('c4ds-europe-west4')"
   ]
  },
  {
   "cell_type": "code",
   "execution_count": 37,
   "id": "1480751e-faba-4c52-8648-ad718561af35",
   "metadata": {},
   "outputs": [
    {
     "name": "stdout",
     "output_type": "stream",
     "text": [
      "prediction-lemon_quality_model-2022-12-06T12:46:06.043433Z/predictions_00001.jsonl\n",
      "prediction-lemon_quality_model-2022-12-06T12:46:06.043433Z/predictions_00002.jsonl\n",
      "prediction-lemon_quality_model-2022-12-06T12:46:06.043433Z/predictions_00003.jsonl\n",
      "prediction-lemon_quality_model-2022-12-06T12:46:06.043433Z/predictions_00004.jsonl\n",
      "prediction-lemon_quality_model-2022-12-06T12:46:06.043433Z/predictions_00005.jsonl\n",
      "prediction-lemon_quality_model-2022-12-06T12:46:06.043433Z/predictions_00006.jsonl\n",
      "prediction-lemon_quality_model-2022-12-06T12:46:06.043433Z/predictions_00007.jsonl\n",
      "prediction-lemon_quality_model-2022-12-06T12:46:06.043433Z/predictions_00008.jsonl\n",
      "prediction-lemon_quality_model-2022-12-06T12:46:06.043433Z/predictions_00009.jsonl\n",
      "prediction-lemon_quality_model-2022-12-06T12:46:06.043433Z/predictions_00010.jsonl\n"
     ]
    }
   ],
   "source": [
    "# Create iterator. \n",
    "blobs = client.list_blobs('c4ds-europe-west4', prefix=prefix_filter)\n",
    "\n",
    "# Show all files with predictions.\n",
    "for blob in blobs:\n",
    "    print(blob.name)"
   ]
  },
  {
   "cell_type": "code",
   "execution_count": 53,
   "id": "cb418be1-e23b-4c57-b04b-6cffa1304031",
   "metadata": {},
   "outputs": [
    {
     "data": {
      "text/plain": [
       "[{'instance': {'content': 'gs://c4ds-europe-west4/images_to_score/good_quality_722.jpg'},\n",
       "  'prediction': {'ids': ['1448585678873952256',\n",
       "    '7213193201908187136',\n",
       "    '6060271697301340160'],\n",
       "   'displayNames': ['good', 'bad', 'empty'],\n",
       "   'confidences': [0.99928063, 0.00071935914, 9.2256196e-11]}},\n",
       " {'instance': {'content': 'gs://c4ds-europe-west4/images_to_score/bad_quality_124.jpg'},\n",
       "  'prediction': {'ids': ['7213193201908187136',\n",
       "    '1448585678873952256',\n",
       "    '6060271697301340160'],\n",
       "   'displayNames': ['bad', 'good', 'empty'],\n",
       "   'confidences': [0.99999976, 2.2686247e-07, 8.685552e-11]}},\n",
       " {'instance': {'content': 'gs://c4ds-europe-west4/images_to_score/bad_quality_591.jpg'},\n",
       "  'prediction': {'ids': ['7213193201908187136',\n",
       "    '1448585678873952256',\n",
       "    '6060271697301340160'],\n",
       "   'displayNames': ['bad', 'good', 'empty'],\n",
       "   'confidences': [1.0, 2.3470442e-08, 2.36922e-14]}}]"
      ]
     },
     "execution_count": 53,
     "metadata": {},
     "output_type": "execute_result"
    }
   ],
   "source": [
    "blobs = client.list_blobs('c4ds-europe-west4', prefix=prefix_filter)\n",
    "\n",
    "# Display few predictions to show prediction format.\n",
    "for blob in blobs:\n",
    "    # Load data and transform into json\n",
    "    json_data_string = blob.download_as_string()\n",
    "    json_data = ndjson.loads(json_data_string)\n",
    "    pred_examples = json_data[0:3]\n",
    "    break\n",
    "    \n",
    "pred_examples"
   ]
  },
  {
   "cell_type": "code",
   "execution_count": 54,
   "id": "082f2f26-ff87-4a06-a3be-4930e212489d",
   "metadata": {},
   "outputs": [],
   "source": [
    "blobs = client.list_blobs('c4ds-europe-west4', prefix=prefix_filter)\n",
    "\n",
    "# Create placeholders for prediction results.\n",
    "cs_uri_list = []\n",
    "predicted_label_list = []\n",
    "prediction_confidence_list = []\n",
    "\n",
    "# Iterate over each file. \n",
    "for blob in blobs:\n",
    "    # Load data and transform into json\n",
    "    json_data_string = blob.download_as_string()\n",
    "    json_data = ndjson.loads(json_data_string) \n",
    "    \n",
    "    # Iterate over each prediction in file.\n",
    "    for prediction in json_data:\n",
    "        # Get data from prediction\n",
    "        cs_uri = prediction.get('instance').get('content')\n",
    "        predicted_label = prediction.get('prediction').get('displayNames')[0] # This array is sorted so the highest probability label is always on 1st position.\n",
    "        prediction_confidence = prediction.get('prediction').get('confidences')[0]\n",
    "        \n",
    "        # Append to appropriate list\n",
    "        cs_uri_list.append(cs_uri)\n",
    "        predicted_label_list.append(predicted_label)\n",
    "        prediction_confidence_list.append(prediction_confidence)\n"
   ]
  },
  {
   "cell_type": "code",
   "execution_count": 55,
   "id": "6f9b0d35-a6f3-4e42-a211-427125678a40",
   "metadata": {},
   "outputs": [
    {
     "data": {
      "text/html": [
       "<div>\n",
       "<style scoped>\n",
       "    .dataframe tbody tr th:only-of-type {\n",
       "        vertical-align: middle;\n",
       "    }\n",
       "\n",
       "    .dataframe tbody tr th {\n",
       "        vertical-align: top;\n",
       "    }\n",
       "\n",
       "    .dataframe thead th {\n",
       "        text-align: right;\n",
       "    }\n",
       "</style>\n",
       "<table border=\"1\" class=\"dataframe\">\n",
       "  <thead>\n",
       "    <tr style=\"text-align: right;\">\n",
       "      <th></th>\n",
       "      <th>cs_uri</th>\n",
       "      <th>predicted_label</th>\n",
       "      <th>confidence</th>\n",
       "    </tr>\n",
       "  </thead>\n",
       "  <tbody>\n",
       "    <tr>\n",
       "      <th>0</th>\n",
       "      <td>gs://c4ds-europe-west4/images_to_score/good_qu...</td>\n",
       "      <td>good</td>\n",
       "      <td>0.999281</td>\n",
       "    </tr>\n",
       "    <tr>\n",
       "      <th>1</th>\n",
       "      <td>gs://c4ds-europe-west4/images_to_score/bad_qua...</td>\n",
       "      <td>bad</td>\n",
       "      <td>1.000000</td>\n",
       "    </tr>\n",
       "    <tr>\n",
       "      <th>2</th>\n",
       "      <td>gs://c4ds-europe-west4/images_to_score/bad_qua...</td>\n",
       "      <td>bad</td>\n",
       "      <td>1.000000</td>\n",
       "    </tr>\n",
       "    <tr>\n",
       "      <th>3</th>\n",
       "      <td>gs://c4ds-europe-west4/images_to_score/bad_qua...</td>\n",
       "      <td>bad</td>\n",
       "      <td>1.000000</td>\n",
       "    </tr>\n",
       "    <tr>\n",
       "      <th>4</th>\n",
       "      <td>gs://c4ds-europe-west4/images_to_score/bad_qua...</td>\n",
       "      <td>bad</td>\n",
       "      <td>0.999999</td>\n",
       "    </tr>\n",
       "  </tbody>\n",
       "</table>\n",
       "</div>"
      ],
      "text/plain": [
       "                                              cs_uri predicted_label  \\\n",
       "0  gs://c4ds-europe-west4/images_to_score/good_qu...            good   \n",
       "1  gs://c4ds-europe-west4/images_to_score/bad_qua...             bad   \n",
       "2  gs://c4ds-europe-west4/images_to_score/bad_qua...             bad   \n",
       "3  gs://c4ds-europe-west4/images_to_score/bad_qua...             bad   \n",
       "4  gs://c4ds-europe-west4/images_to_score/bad_qua...             bad   \n",
       "\n",
       "   confidence  \n",
       "0    0.999281  \n",
       "1    1.000000  \n",
       "2    1.000000  \n",
       "3    1.000000  \n",
       "4    0.999999  "
      ]
     },
     "execution_count": 55,
     "metadata": {},
     "output_type": "execute_result"
    }
   ],
   "source": [
    "# Create data frame with results. \n",
    "results_df = pd.DataFrame({'cs_uri': cs_uri_list, 'predicted_label': predicted_label_list, 'confidence': prediction_confidence_list})\n",
    "results_df.head()"
   ]
  }
 ],
 "metadata": {
  "environment": {
   "kernel": "python3",
   "name": "common-cpu.m95",
   "type": "gcloud",
   "uri": "gcr.io/deeplearning-platform-release/base-cpu:m95"
  },
  "kernelspec": {
   "display_name": "Python 3",
   "language": "python",
   "name": "python3"
  },
  "language_info": {
   "codemirror_mode": {
    "name": "ipython",
    "version": 3
   },
   "file_extension": ".py",
   "mimetype": "text/x-python",
   "name": "python",
   "nbconvert_exporter": "python",
   "pygments_lexer": "ipython3",
   "version": "3.7.12"
  }
 },
 "nbformat": 4,
 "nbformat_minor": 5
}
