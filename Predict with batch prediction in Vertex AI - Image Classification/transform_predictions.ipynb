{
 "cells": [
  {
   "cell_type": "code",
   "execution_count": null,
   "id": "80ddf617-11c2-4aa0-a90e-077849d10314",
   "metadata": {},
   "outputs": [],
   "source": [
    "# Import required libraries\n",
    "import ndjson\n",
    "import pandas as pd\n",
    "from google.cloud import aiplatform\n",
    "from google.cloud import storage\n",
    "\n",
    "# Initialize Vertex AI connection\n",
    "aiplatform.init(location='europe-west4')\n",
    "\n",
    "# Define Cloud Storage client\n",
    "client = storage.Client()"
   ]
  },
  {
   "cell_type": "code",
   "execution_count": null,
   "id": "48297927-327b-46ce-9c03-c87f7f209206",
   "metadata": {},
   "outputs": [],
   "source": [
    "# Get the batch prediction job\n",
    "job_id = '751954902724378624'\n",
    "batch_prediction_job = aiplatform.BatchPredictionJob(job_id)"
   ]
  },
  {
   "cell_type": "code",
   "execution_count": null,
   "id": "3d0b3fca-6acd-4382-abbd-dfc34e83d0a3",
   "metadata": {},
   "outputs": [],
   "source": [
    "# Get the job output folder\n",
    "results_folder = batch_prediction_job.output_info.gcs_output_directory\n",
    "results_folder"
   ]
  },
  {
   "cell_type": "code",
   "execution_count": null,
   "id": "cd12b4a1-1071-4696-b35a-ba8959d99112",
   "metadata": {},
   "outputs": [],
   "source": [
    "# Create prefix to filter blobs\n",
    "prefix_filter = results_folder.replace('gs://c4ds-europe-west4/','')\n",
    "prefix_filter"
   ]
  },
  {
   "cell_type": "code",
   "execution_count": null,
   "id": "f535bc8c-f662-4358-8195-7550c77d9952",
   "metadata": {},
   "outputs": [],
   "source": [
    "# Define Cloud Storage client and bucket to which files will be exported\n",
    "client = storage.Client()\n",
    "bucket = client.get_bucket('c4ds-europe-west4')"
   ]
  },
  {
   "cell_type": "code",
   "execution_count": null,
   "id": "1480751e-faba-4c52-8648-ad718561af35",
   "metadata": {},
   "outputs": [],
   "source": [
    "# Create iterator\n",
    "blobs = client.list_blobs('c4ds-europe-west4', prefix=prefix_filter)\n",
    "\n",
    "# Show all files with predictions\n",
    "for blob in blobs:\n",
    "    print(blob.name)"
   ]
  },
  {
   "cell_type": "code",
   "execution_count": null,
   "id": "cb418be1-e23b-4c57-b04b-6cffa1304031",
   "metadata": {},
   "outputs": [],
   "source": [
    "blobs = client.list_blobs('c4ds-europe-west4', prefix=prefix_filter)\n",
    "\n",
    "# Display few predictions to show prediction format\n",
    "for blob in blobs:\n",
    "    # Load data and transform into json\n",
    "    json_data_string = blob.download_as_string()\n",
    "    json_data = ndjson.loads(json_data_string)\n",
    "    pred_examples = json_data[0:3]\n",
    "    break\n",
    "    \n",
    "pred_examples"
   ]
  },
  {
   "cell_type": "code",
   "execution_count": null,
   "id": "082f2f26-ff87-4a06-a3be-4930e212489d",
   "metadata": {},
   "outputs": [],
   "source": [
    "blobs = client.list_blobs('c4ds-europe-west4', prefix=prefix_filter)\n",
    "\n",
    "# Create placeholders for prediction results\n",
    "cs_uri_list = []\n",
    "predicted_label_list = []\n",
    "prediction_confidence_list = []\n",
    "\n",
    "# Iterate over each file in Cloud Storage\n",
    "for blob in blobs:\n",
    "    # Load data and transform into json\n",
    "    json_data_string = blob.download_as_string()\n",
    "    json_data = ndjson.loads(json_data_string) \n",
    "    \n",
    "    # Iterate over each prediction in file\n",
    "    for prediction in json_data:\n",
    "        # Get data from prediction\n",
    "        cs_uri = prediction.get('instance').get('content')\n",
    "        predicted_label = prediction.get('prediction').get('displayNames')[0] # This array is sorted so the highest probability label is always on 1st position.\n",
    "        prediction_confidence = prediction.get('prediction').get('confidences')[0]\n",
    "        \n",
    "        # Append to appropriate list\n",
    "        cs_uri_list.append(cs_uri)\n",
    "        predicted_label_list.append(predicted_label)\n",
    "        prediction_confidence_list.append(prediction_confidence)\n"
   ]
  },
  {
   "cell_type": "code",
   "execution_count": null,
   "id": "6f9b0d35-a6f3-4e42-a211-427125678a40",
   "metadata": {},
   "outputs": [],
   "source": [
    "# Create data frame with results. \n",
    "results_df = pd.DataFrame({'cs_uri': cs_uri_list, 'predicted_label': predicted_label_list, 'confidence': prediction_confidence_list})\n",
    "results_df.head()"
   ]
  }
 ],
 "metadata": {
  "environment": {
   "kernel": "python3",
   "name": "common-cpu.m95",
   "type": "gcloud",
   "uri": "gcr.io/deeplearning-platform-release/base-cpu:m95"
  },
  "kernelspec": {
   "display_name": "Python 3",
   "language": "python",
   "name": "python3"
  },
  "language_info": {
   "codemirror_mode": {
    "name": "ipython",
    "version": 3
   },
   "file_extension": ".py",
   "mimetype": "text/x-python",
   "name": "python",
   "nbconvert_exporter": "python",
   "pygments_lexer": "ipython3",
   "version": "3.7.12"
  }
 },
 "nbformat": 4,
 "nbformat_minor": 5
}
