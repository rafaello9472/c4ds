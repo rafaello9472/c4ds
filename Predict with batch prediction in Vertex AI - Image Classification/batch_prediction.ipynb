{
 "cells": [
  {
   "cell_type": "code",
   "execution_count": 1,
   "id": "04753799-cc1c-4875-b428-33b28667a268",
   "metadata": {
    "tags": []
   },
   "outputs": [],
   "source": [
    "# Import Vertex AI library.\n",
    "from google.cloud import aiplatform\n",
    "\n",
    "# Initialize connection.\n",
    "aiplatform.init(location='europe-west4')"
   ]
  },
  {
   "cell_type": "code",
   "execution_count": 2,
   "id": "02bf8331-da14-459c-aacb-3ffc03042e05",
   "metadata": {},
   "outputs": [],
   "source": [
    "# Get model that will make a batch prediction.\n",
    "model_id = 'projects/481904805065/locations/europe-west4/models/5338955785596567552'\n",
    "model = aiplatform.Model(model_id)"
   ]
  },
  {
   "cell_type": "code",
   "execution_count": 3,
   "id": "82ed8e9c-ab6e-4293-8a0e-60182434c216",
   "metadata": {
    "tags": []
   },
   "outputs": [
    {
     "data": {
      "text/plain": [
       "['jsonl']"
      ]
     },
     "execution_count": 3,
     "metadata": {},
     "output_type": "execute_result"
    }
   ],
   "source": [
    "# Check the supported batch prediction jobs input formats.\n",
    "model.supported_input_storage_formats"
   ]
  },
  {
   "cell_type": "code",
   "execution_count": 4,
   "id": "953ce8f4-1cdb-4e94-95c1-5ca28657b081",
   "metadata": {},
   "outputs": [],
   "source": [
    "# Define required arguments for batch prediction job.\n",
    "job_display_name = 'lemon'\n",
    "gcs_source = 'gs://c4ds-europe-west4/input_file.jsonl'\n",
    "gcs_destination_prefix = 'gs://c4ds-europe-west4'"
   ]
  },
  {
   "cell_type": "code",
   "execution_count": 5,
   "id": "1abc24c7-332d-425b-a383-866c70a766c8",
   "metadata": {},
   "outputs": [
    {
     "name": "stdout",
     "output_type": "stream",
     "text": [
      "Creating BatchPredictionJob\n",
      "BatchPredictionJob created. Resource name: projects/481904805065/locations/europe-west4/batchPredictionJobs/751954902724378624\n",
      "To use this BatchPredictionJob in another session:\n",
      "bpj = aiplatform.BatchPredictionJob('projects/481904805065/locations/europe-west4/batchPredictionJobs/751954902724378624')\n",
      "View Batch Prediction Job:\n",
      "https://console.cloud.google.com/ai/platform/locations/europe-west4/batch-predictions/751954902724378624?project=481904805065\n",
      "BatchPredictionJob projects/481904805065/locations/europe-west4/batchPredictionJobs/751954902724378624 current state:\n",
      "JobState.JOB_STATE_RUNNING\n",
      "BatchPredictionJob projects/481904805065/locations/europe-west4/batchPredictionJobs/751954902724378624 current state:\n",
      "JobState.JOB_STATE_RUNNING\n",
      "BatchPredictionJob projects/481904805065/locations/europe-west4/batchPredictionJobs/751954902724378624 current state:\n",
      "JobState.JOB_STATE_RUNNING\n",
      "BatchPredictionJob projects/481904805065/locations/europe-west4/batchPredictionJobs/751954902724378624 current state:\n",
      "JobState.JOB_STATE_RUNNING\n",
      "BatchPredictionJob projects/481904805065/locations/europe-west4/batchPredictionJobs/751954902724378624 current state:\n",
      "JobState.JOB_STATE_RUNNING\n",
      "BatchPredictionJob projects/481904805065/locations/europe-west4/batchPredictionJobs/751954902724378624 current state:\n",
      "JobState.JOB_STATE_RUNNING\n",
      "BatchPredictionJob projects/481904805065/locations/europe-west4/batchPredictionJobs/751954902724378624 current state:\n",
      "JobState.JOB_STATE_RUNNING\n",
      "BatchPredictionJob projects/481904805065/locations/europe-west4/batchPredictionJobs/751954902724378624 current state:\n",
      "JobState.JOB_STATE_RUNNING\n",
      "BatchPredictionJob projects/481904805065/locations/europe-west4/batchPredictionJobs/751954902724378624 current state:\n",
      "JobState.JOB_STATE_RUNNING\n",
      "BatchPredictionJob projects/481904805065/locations/europe-west4/batchPredictionJobs/751954902724378624 current state:\n",
      "JobState.JOB_STATE_RUNNING\n",
      "BatchPredictionJob projects/481904805065/locations/europe-west4/batchPredictionJobs/751954902724378624 current state:\n",
      "JobState.JOB_STATE_RUNNING\n",
      "BatchPredictionJob projects/481904805065/locations/europe-west4/batchPredictionJobs/751954902724378624 current state:\n",
      "JobState.JOB_STATE_RUNNING\n",
      "BatchPredictionJob projects/481904805065/locations/europe-west4/batchPredictionJobs/751954902724378624 current state:\n",
      "JobState.JOB_STATE_RUNNING\n",
      "BatchPredictionJob projects/481904805065/locations/europe-west4/batchPredictionJobs/751954902724378624 current state:\n",
      "JobState.JOB_STATE_SUCCEEDED\n",
      "BatchPredictionJob run completed. Resource name: projects/481904805065/locations/europe-west4/batchPredictionJobs/751954902724378624\n"
     ]
    }
   ],
   "source": [
    "# Create batch prediction job.\n",
    "batch_prediction_job = model.batch_predict(\n",
    "    job_display_name=job_display_name,\n",
    "    gcs_source=gcs_source,\n",
    "    gcs_destination_prefix=gcs_destination_prefix,\n",
    ")"
   ]
  },
  {
   "cell_type": "code",
   "execution_count": 40,
   "id": "cf7c30b6-e134-45d8-994b-a9978b8ff749",
   "metadata": {},
   "outputs": [
    {
     "data": {
      "text/plain": [
       "'gs://c4ds-europe-west4/prediction-lemon_quality_model-2022-12-06T12:46:06.043433Z'"
      ]
     },
     "execution_count": 40,
     "metadata": {},
     "output_type": "execute_result"
    }
   ],
   "source": [
    "# Get the job output folder.\n",
    "results_folder = batch_prediction_job.output_info.gcs_output_directory\n",
    "results_folder"
   ]
  }
 ],
 "metadata": {
  "environment": {
   "kernel": "python3",
   "name": "common-cpu.m95",
   "type": "gcloud",
   "uri": "gcr.io/deeplearning-platform-release/base-cpu:m95"
  },
  "kernelspec": {
   "display_name": "Python 3",
   "language": "python",
   "name": "python3"
  },
  "language_info": {
   "codemirror_mode": {
    "name": "ipython",
    "version": 3
   },
   "file_extension": ".py",
   "mimetype": "text/x-python",
   "name": "python",
   "nbconvert_exporter": "python",
   "pygments_lexer": "ipython3",
   "version": "3.7.12"
  }
 },
 "nbformat": 4,
 "nbformat_minor": 5
}
