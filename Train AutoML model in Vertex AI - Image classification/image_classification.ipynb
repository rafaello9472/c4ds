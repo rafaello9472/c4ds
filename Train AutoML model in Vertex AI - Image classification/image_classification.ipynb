{
 "cells": [
  {
   "cell_type": "code",
   "execution_count": null,
   "id": "c344b4b9-c713-4800-ae10-b76c6e0c9d10",
   "metadata": {},
   "outputs": [],
   "source": [
    "# Import Vertex AI library\n",
    "from google.cloud import aiplatform"
   ]
  },
  {
   "cell_type": "code",
   "execution_count": null,
   "id": "772d0019-4b34-441d-9b44-a61a6c5c122e",
   "metadata": {},
   "outputs": [],
   "source": [
    "# Initialize connection\n",
    "aiplatform.init(location='europe-west4')"
   ]
  },
  {
   "cell_type": "code",
   "execution_count": null,
   "id": "5d55bbe5-31b0-4f3c-92d4-0d8e4a08a606",
   "metadata": {},
   "outputs": [],
   "source": [
    "# Get dataset\n",
    "dataset_id = 'projects/481904805065/locations/europe-west4/datasets/9147094517189443584' # Or just '9147094517189443584'\n",
    "dataset = aiplatform.ImageDataset(dataset_id)"
   ]
  },
  {
   "cell_type": "code",
   "execution_count": null,
   "id": "f07c0b3c-69ab-4857-84c4-eadc1edc8291",
   "metadata": {},
   "outputs": [],
   "source": [
    "# Name of the Model\n",
    "display_name = 'lemon_quality_model_2'\n",
    "\n",
    "# The type of prediction the Model is to produce.\n",
    "# One of: ['classification', 'object_detection']\n",
    "prediction_type = 'classification'"
   ]
  },
  {
   "cell_type": "code",
   "execution_count": null,
   "id": "dc815b5b-9993-4c3b-a9e0-251cb4e83257",
   "metadata": {},
   "outputs": [],
   "source": [
    "# Create training job\n",
    "job = aiplatform.AutoMLImageTrainingJob(\n",
    "    display_name=display_name,\n",
    "    prediction_type=prediction_type\n",
    ")"
   ]
  },
  {
   "cell_type": "code",
   "execution_count": null,
   "id": "68225b7a-d3f2-4293-8962-0995baa0c3cf",
   "metadata": {},
   "outputs": [],
   "source": [
    "# Run training job\n",
    "model = job.run(\n",
    "    dataset=dataset,\n",
    "    training_fraction_split=0.7,\n",
    "    validation_fraction_split=0.15,\n",
    "    test_fraction_split=0.15,\n",
    "    budget_milli_node_hours=8000\n",
    ")"
   ]
  },
  {
   "cell_type": "code",
   "execution_count": null,
   "id": "c1e44fa2-cb13-43c9-88a7-caefdfdf7520",
   "metadata": {},
   "outputs": [],
   "source": [
    "# Retrieve model after training\n",
    "model_id = 'projects/481904805065/locations/europe-west4/models/' # E.g.: projects/268076997885/locations/europe-west1/models/1312975213238942344 \n",
    "model = aiplatform.Model(model_id)"
   ]
  }
 ],
 "metadata": {
  "environment": {
   "kernel": "python3",
   "name": "common-cpu.m95",
   "type": "gcloud",
   "uri": "gcr.io/deeplearning-platform-release/base-cpu:m95"
  },
  "kernelspec": {
   "display_name": "Python 3",
   "language": "python",
   "name": "python3"
  },
  "language_info": {
   "codemirror_mode": {
    "name": "ipython",
    "version": 3
   },
   "file_extension": ".py",
   "mimetype": "text/x-python",
   "name": "python",
   "nbconvert_exporter": "python",
   "pygments_lexer": "ipython3",
   "version": "3.7.12"
  }
 },
 "nbformat": 4,
 "nbformat_minor": 5
}
