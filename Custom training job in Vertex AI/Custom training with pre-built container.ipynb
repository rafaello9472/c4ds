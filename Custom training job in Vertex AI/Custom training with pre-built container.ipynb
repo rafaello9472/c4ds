{
 "cells": [
  {
   "cell_type": "code",
   "execution_count": 1,
   "id": "6ad90f19-55b3-431e-8b2e-3a542a081173",
   "metadata": {},
   "outputs": [],
   "source": [
    "# Import libraries\n",
    "from google.cloud import aiplatform"
   ]
  },
  {
   "cell_type": "code",
   "execution_count": 2,
   "id": "b9c9a9ef-c9b9-4053-8364-f0cc15ff1260",
   "metadata": {},
   "outputs": [],
   "source": [
    "# Initialize connection\n",
    "aiplatform.init(location='europe-west1')"
   ]
  },
  {
   "cell_type": "code",
   "execution_count": 3,
   "id": "11a82327-fb67-40e5-bddf-636a623a05d7",
   "metadata": {},
   "outputs": [],
   "source": [
    "job = aiplatform.CustomPythonPackageTrainingJob(\n",
    "    display_name='stroke_test_model_12',\n",
    "    python_package_gcs_uri='gs://c4ds/vertexai/distributions/trainer-0.1.tar.gz',\n",
    "    python_module_name='trainer.task',\n",
    "    container_uri='europe-docker.pkg.dev/vertex-ai/training/scikit-learn-cpu.0-23:latest',\n",
    "    staging_bucket='gs://c4ds-europe-west1/vertexai/job_outputs/'\n",
    ")"
   ]
  },
  {
   "cell_type": "code",
   "execution_count": 4,
   "id": "5917a52b-f341-4528-9ac9-8b98ca3a9e90",
   "metadata": {},
   "outputs": [
    {
     "name": "stdout",
     "output_type": "stream",
     "text": [
      "Training Output directory:\n",
      "gs://c4ds-europe-west1/vertexai/job_outputs/aiplatform-custom-training-2022-09-16-10:39:35.211 \n",
      "View Training:\n",
      "https://console.cloud.google.com/ai/platform/locations/europe-west1/training/459865240759173120?project=481904805065\n",
      "CustomPythonPackageTrainingJob projects/481904805065/locations/europe-west1/trainingPipelines/459865240759173120 current state:\n",
      "PipelineState.PIPELINE_STATE_RUNNING\n",
      "View backing custom job:\n",
      "https://console.cloud.google.com/ai/platform/locations/europe-west1/training/3139577387788795904?project=481904805065\n",
      "CustomPythonPackageTrainingJob projects/481904805065/locations/europe-west1/trainingPipelines/459865240759173120 current state:\n",
      "PipelineState.PIPELINE_STATE_RUNNING\n",
      "CustomPythonPackageTrainingJob projects/481904805065/locations/europe-west1/trainingPipelines/459865240759173120 current state:\n",
      "PipelineState.PIPELINE_STATE_RUNNING\n",
      "CustomPythonPackageTrainingJob projects/481904805065/locations/europe-west1/trainingPipelines/459865240759173120 current state:\n",
      "PipelineState.PIPELINE_STATE_RUNNING\n",
      "CustomPythonPackageTrainingJob run completed. Resource name: projects/481904805065/locations/europe-west1/trainingPipelines/459865240759173120\n",
      "Training did not produce a Managed Model returning None. Training Pipeline projects/481904805065/locations/europe-west1/trainingPipelines/459865240759173120 is not configured to upload a Model. Create the Training Pipeline with model_serving_container_image_uri and model_display_name passed in. Ensure that your training script saves to model to os.environ['AIP_MODEL_DIR'].\n"
     ]
    }
   ],
   "source": [
    "job.run(\n",
    "    replica_count=1, \n",
    "    machine_type='n1-standard-4',\n",
    "    args=['--data_gcs_path=gs://datasets-c4ds/healthcare-dataset-stroke-data.csv']\n",
    "\n",
    ")"
   ]
  }
 ],
 "metadata": {
  "environment": {
   "kernel": "python3",
   "name": "common-cpu.m95",
   "type": "gcloud",
   "uri": "gcr.io/deeplearning-platform-release/base-cpu:m95"
  },
  "kernelspec": {
   "display_name": "Python 3",
   "language": "python",
   "name": "python3"
  },
  "language_info": {
   "codemirror_mode": {
    "name": "ipython",
    "version": 3
   },
   "file_extension": ".py",
   "mimetype": "text/x-python",
   "name": "python",
   "nbconvert_exporter": "python",
   "pygments_lexer": "ipython3",
   "version": "3.7.12"
  }
 },
 "nbformat": 4,
 "nbformat_minor": 5
}
