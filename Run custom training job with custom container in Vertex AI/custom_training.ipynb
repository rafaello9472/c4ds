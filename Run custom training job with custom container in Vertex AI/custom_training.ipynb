{
 "cells": [
  {
   "cell_type": "code",
   "execution_count": 1,
   "id": "6ad90f19-55b3-431e-8b2e-3a542a081173",
   "metadata": {},
   "outputs": [],
   "source": [
    "# Import libraries\n",
    "from google.cloud import aiplatform"
   ]
  },
  {
   "cell_type": "code",
   "execution_count": 2,
   "id": "b9c9a9ef-c9b9-4053-8364-f0cc15ff1260",
   "metadata": {},
   "outputs": [],
   "source": [
    "# Initialize connection\n",
    "aiplatform.init(location='europe-west1')"
   ]
  },
  {
   "cell_type": "code",
   "execution_count": 3,
   "id": "11a82327-fb67-40e5-bddf-636a623a05d7",
   "metadata": {},
   "outputs": [],
   "source": [
    "job = aiplatform.CustomContainerTrainingJob(\n",
    "    display_name='custom_training_sdk',\n",
    "    container_uri='europe-west1-docker.pkg.dev/c4ds-gcp/quickstart-docker-repo/stroke_model@sha256:83110b5cef5ef46e3d1bef20880220a4d4af8f9cd6d518433f3041aaa30c0eed',\n",
    "    staging_bucket='c4ds-europe-west1/vertexai/job_outputs'\n",
    ")"
   ]
  },
  {
   "cell_type": "code",
   "execution_count": 4,
   "id": "5917a52b-f341-4528-9ac9-8b98ca3a9e90",
   "metadata": {},
   "outputs": [
    {
     "name": "stdout",
     "output_type": "stream",
     "text": [
      "Training Output directory:\n",
      "gs://c4ds-europe-west1/vertexai/job_outputs/aiplatform-custom-training-2022-10-18-20:04:16.972 \n",
      "View Training:\n",
      "https://console.cloud.google.com/ai/platform/locations/europe-west1/training/4765937604199710720?project=481904805065\n",
      "CustomContainerTrainingJob projects/481904805065/locations/europe-west1/trainingPipelines/4765937604199710720 current state:\n",
      "PipelineState.PIPELINE_STATE_RUNNING\n",
      "View backing custom job:\n",
      "https://console.cloud.google.com/ai/platform/locations/europe-west1/training/1930176169886351360?project=481904805065\n",
      "CustomContainerTrainingJob projects/481904805065/locations/europe-west1/trainingPipelines/4765937604199710720 current state:\n",
      "PipelineState.PIPELINE_STATE_RUNNING\n",
      "CustomContainerTrainingJob projects/481904805065/locations/europe-west1/trainingPipelines/4765937604199710720 current state:\n",
      "PipelineState.PIPELINE_STATE_RUNNING\n",
      "CustomContainerTrainingJob projects/481904805065/locations/europe-west1/trainingPipelines/4765937604199710720 current state:\n",
      "PipelineState.PIPELINE_STATE_RUNNING\n",
      "CustomContainerTrainingJob run completed. Resource name: projects/481904805065/locations/europe-west1/trainingPipelines/4765937604199710720\n",
      "Training did not produce a Managed Model returning None. Training Pipeline projects/481904805065/locations/europe-west1/trainingPipelines/4765937604199710720 is not configured to upload a Model. Create the Training Pipeline with model_serving_container_image_uri and model_display_name passed in. Ensure that your training script saves to model to os.environ['AIP_MODEL_DIR'].\n"
     ]
    }
   ],
   "source": [
    "job.run(\n",
    "    replica_count=1, \n",
    "    machine_type='n1-standard-4',\n",
    "    args=['--data_gcs_path=gs://datasets-c4ds/healthcare-dataset-stroke-data.csv']\n",
    "\n",
    ")"
   ]
  }
 ],
 "metadata": {
  "environment": {
   "kernel": "python3",
   "name": "common-cpu.m95",
   "type": "gcloud",
   "uri": "gcr.io/deeplearning-platform-release/base-cpu:m95"
  },
  "kernelspec": {
   "display_name": "Python 3",
   "language": "python",
   "name": "python3"
  },
  "language_info": {
   "codemirror_mode": {
    "name": "ipython",
    "version": 3
   },
   "file_extension": ".py",
   "mimetype": "text/x-python",
   "name": "python",
   "nbconvert_exporter": "python",
   "pygments_lexer": "ipython3",
   "version": "3.7.12"
  }
 },
 "nbformat": 4,
 "nbformat_minor": 5
}
