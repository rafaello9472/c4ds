{
 "cells": [
  {
   "cell_type": "code",
   "execution_count": null,
   "id": "6a5c5b8e-995b-4d68-8731-b1a5147da343",
   "metadata": {},
   "outputs": [],
   "source": [
    "# Import Vertex AI library\n",
    "from google.cloud import aiplatform"
   ]
  },
  {
   "cell_type": "code",
   "execution_count": null,
   "id": "5d0d2d7a-8743-4657-8127-d4b49afe0392",
   "metadata": {},
   "outputs": [],
   "source": [
    "# Initialize connection\n",
    "aiplatform.init()"
   ]
  },
  {
   "cell_type": "code",
   "execution_count": null,
   "id": "caeb292f-72fc-41f7-adc2-6a5384ffcf94",
   "metadata": {},
   "outputs": [],
   "source": [
    "# List the available datasets to test the connection\n",
    "aiplatform.TabularDataset.list()"
   ]
  }
 ],
 "metadata": {
  "environment": {
   "kernel": "python3",
   "name": "common-cpu.m93",
   "type": "gcloud",
   "uri": "gcr.io/deeplearning-platform-release/base-cpu:m93"
  },
  "kernelspec": {
   "display_name": "Python 3",
   "language": "python",
   "name": "python3"
  },
  "language_info": {
   "codemirror_mode": {
    "name": "ipython",
    "version": 3
   },
   "file_extension": ".py",
   "mimetype": "text/x-python",
   "name": "python",
   "nbconvert_exporter": "python",
   "pygments_lexer": "ipython3",
   "version": "3.7.12"
  }
 },
 "nbformat": 4,
 "nbformat_minor": 5
}
